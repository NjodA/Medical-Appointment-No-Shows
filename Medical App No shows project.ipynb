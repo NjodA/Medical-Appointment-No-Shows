{
 "cells": [
  {
   "cell_type": "markdown",
   "id": "9e2d4e63",
   "metadata": {},
   "source": [
    "# Analysis Preparation"
   ]
  },
  {
   "cell_type": "markdown",
   "id": "ee6f53aa",
   "metadata": {},
   "source": [
    "# "
   ]
  },
  {
   "cell_type": "raw",
   "id": "1a758e86",
   "metadata": {},
   "source": [
    "In this step we import all needed libraries, we make aliases for easier calling when needed:\n",
    "\n",
    "- Pandas: a library offers data structures and operations for manipulating numerical tables and time series.\n",
    "\n",
    "- Numpy: a library used for working with arrays. It also has functions for working in domain of linear algebra, fourier transform, and matrices.\n",
    "\n",
    "- Matplotlib: a plotting library for the Python programming language and its numerical mathematics extension NumPy\n",
    "\n",
    "- Seaborn: a data visualization library built on top of matplotlib and closely integrated with pandas data structures in Python."
   ]
  },
  {
   "cell_type": "code",
   "execution_count": 1,
   "id": "7f913875",
   "metadata": {},
   "outputs": [],
   "source": [
    "# Import all libraries needed in analysis\n",
    "import pandas as pd # data processing, CSV file - Dataframe\n",
    "import numpy as np # linear algebra - Arraies\n",
    "import matplotlib.pyplot as plt # plotting - Visualization \n",
    "import seaborn as sns # Visualization \n",
    "from datetime import datetime\n",
    "%matplotlib inline "
   ]
  },
  {
   "cell_type": "markdown",
   "id": "22ab91f3",
   "metadata": {},
   "source": [
    "# Data Wrangling"
   ]
  },
  {
   "cell_type": "markdown",
   "id": "03e79b01",
   "metadata": {},
   "source": [
    "# "
   ]
  },
  {
   "cell_type": "raw",
   "id": "e010dec2",
   "metadata": {},
   "source": [
    "Is the process of transforming and mapping data from one \"raw\" data form into another format with the intent of making it more appropriate and valuable for a variety of downstream purposes such as analytics. The goal of data wrangling is to assure quality and useful data. Data analysts typically spend the majority of their time in the process of data wrangling compared to the actual analysis of the data. (Wikipedia Definition)"
   ]
  },
  {
   "cell_type": "markdown",
   "id": "b48f9267",
   "metadata": {},
   "source": [
    "# General Properties"
   ]
  },
  {
   "cell_type": "code",
   "execution_count": 2,
   "id": "974d3512",
   "metadata": {},
   "outputs": [],
   "source": [
    "df=pd.read_csv(\"Data.csv\") # Load dataset anto a dataframe"
   ]
  },
  {
   "cell_type": "code",
   "execution_count": 3,
   "id": "8f139f92",
   "metadata": {
    "scrolled": true
   },
   "outputs": [
    {
     "data": {
      "text/html": [
       "<div>\n",
       "<style scoped>\n",
       "    .dataframe tbody tr th:only-of-type {\n",
       "        vertical-align: middle;\n",
       "    }\n",
       "\n",
       "    .dataframe tbody tr th {\n",
       "        vertical-align: top;\n",
       "    }\n",
       "\n",
       "    .dataframe thead th {\n",
       "        text-align: right;\n",
       "    }\n",
       "</style>\n",
       "<table border=\"1\" class=\"dataframe\">\n",
       "  <thead>\n",
       "    <tr style=\"text-align: right;\">\n",
       "      <th></th>\n",
       "      <th>PatientId</th>\n",
       "      <th>AppointmentID</th>\n",
       "      <th>Gender</th>\n",
       "      <th>ScheduledDay</th>\n",
       "      <th>AppointmentDay</th>\n",
       "      <th>Age</th>\n",
       "      <th>Neighbourhood</th>\n",
       "      <th>Scholarship</th>\n",
       "      <th>Hipertension</th>\n",
       "      <th>Diabetes</th>\n",
       "      <th>Alcoholism</th>\n",
       "      <th>Handcap</th>\n",
       "      <th>SMS_received</th>\n",
       "      <th>No-show</th>\n",
       "    </tr>\n",
       "  </thead>\n",
       "  <tbody>\n",
       "    <tr>\n",
       "      <th>0</th>\n",
       "      <td>2.987250e+13</td>\n",
       "      <td>5642903</td>\n",
       "      <td>F</td>\n",
       "      <td>2016-04-29T18:38:08Z</td>\n",
       "      <td>2016-04-29T00:00:00Z</td>\n",
       "      <td>62</td>\n",
       "      <td>JARDIM DA PENHA</td>\n",
       "      <td>0</td>\n",
       "      <td>1</td>\n",
       "      <td>0</td>\n",
       "      <td>0</td>\n",
       "      <td>0</td>\n",
       "      <td>0</td>\n",
       "      <td>No</td>\n",
       "    </tr>\n",
       "    <tr>\n",
       "      <th>1</th>\n",
       "      <td>5.589978e+14</td>\n",
       "      <td>5642503</td>\n",
       "      <td>M</td>\n",
       "      <td>2016-04-29T16:08:27Z</td>\n",
       "      <td>2016-04-29T00:00:00Z</td>\n",
       "      <td>56</td>\n",
       "      <td>JARDIM DA PENHA</td>\n",
       "      <td>0</td>\n",
       "      <td>0</td>\n",
       "      <td>0</td>\n",
       "      <td>0</td>\n",
       "      <td>0</td>\n",
       "      <td>0</td>\n",
       "      <td>No</td>\n",
       "    </tr>\n",
       "    <tr>\n",
       "      <th>2</th>\n",
       "      <td>4.262962e+12</td>\n",
       "      <td>5642549</td>\n",
       "      <td>F</td>\n",
       "      <td>2016-04-29T16:19:04Z</td>\n",
       "      <td>2016-04-29T00:00:00Z</td>\n",
       "      <td>62</td>\n",
       "      <td>MATA DA PRAIA</td>\n",
       "      <td>0</td>\n",
       "      <td>0</td>\n",
       "      <td>0</td>\n",
       "      <td>0</td>\n",
       "      <td>0</td>\n",
       "      <td>0</td>\n",
       "      <td>No</td>\n",
       "    </tr>\n",
       "    <tr>\n",
       "      <th>3</th>\n",
       "      <td>8.679512e+11</td>\n",
       "      <td>5642828</td>\n",
       "      <td>F</td>\n",
       "      <td>2016-04-29T17:29:31Z</td>\n",
       "      <td>2016-04-29T00:00:00Z</td>\n",
       "      <td>8</td>\n",
       "      <td>PONTAL DE CAMBURI</td>\n",
       "      <td>0</td>\n",
       "      <td>0</td>\n",
       "      <td>0</td>\n",
       "      <td>0</td>\n",
       "      <td>0</td>\n",
       "      <td>0</td>\n",
       "      <td>No</td>\n",
       "    </tr>\n",
       "    <tr>\n",
       "      <th>4</th>\n",
       "      <td>8.841186e+12</td>\n",
       "      <td>5642494</td>\n",
       "      <td>F</td>\n",
       "      <td>2016-04-29T16:07:23Z</td>\n",
       "      <td>2016-04-29T00:00:00Z</td>\n",
       "      <td>56</td>\n",
       "      <td>JARDIM DA PENHA</td>\n",
       "      <td>0</td>\n",
       "      <td>1</td>\n",
       "      <td>1</td>\n",
       "      <td>0</td>\n",
       "      <td>0</td>\n",
       "      <td>0</td>\n",
       "      <td>No</td>\n",
       "    </tr>\n",
       "  </tbody>\n",
       "</table>\n",
       "</div>"
      ],
      "text/plain": [
       "      PatientId  AppointmentID Gender          ScheduledDay  \\\n",
       "0  2.987250e+13        5642903      F  2016-04-29T18:38:08Z   \n",
       "1  5.589978e+14        5642503      M  2016-04-29T16:08:27Z   \n",
       "2  4.262962e+12        5642549      F  2016-04-29T16:19:04Z   \n",
       "3  8.679512e+11        5642828      F  2016-04-29T17:29:31Z   \n",
       "4  8.841186e+12        5642494      F  2016-04-29T16:07:23Z   \n",
       "\n",
       "         AppointmentDay  Age      Neighbourhood  Scholarship  Hipertension  \\\n",
       "0  2016-04-29T00:00:00Z   62    JARDIM DA PENHA            0             1   \n",
       "1  2016-04-29T00:00:00Z   56    JARDIM DA PENHA            0             0   \n",
       "2  2016-04-29T00:00:00Z   62      MATA DA PRAIA            0             0   \n",
       "3  2016-04-29T00:00:00Z    8  PONTAL DE CAMBURI            0             0   \n",
       "4  2016-04-29T00:00:00Z   56    JARDIM DA PENHA            0             1   \n",
       "\n",
       "   Diabetes  Alcoholism  Handcap  SMS_received No-show  \n",
       "0         0           0        0             0      No  \n",
       "1         0           0        0             0      No  \n",
       "2         0           0        0             0      No  \n",
       "3         0           0        0             0      No  \n",
       "4         1           0        0             0      No  "
      ]
     },
     "execution_count": 3,
     "metadata": {},
     "output_type": "execute_result"
    }
   ],
   "source": [
    "df.head() # Shows the first 5 rows of data"
   ]
  },
  {
   "cell_type": "markdown",
   "id": "8449b569",
   "metadata": {},
   "source": [
    "# "
   ]
  },
  {
   "cell_type": "markdown",
   "id": "887baf9c",
   "metadata": {},
   "source": [
    "# Exploring general properties about the data"
   ]
  },
  {
   "cell_type": "markdown",
   "id": "cfbb73cc",
   "metadata": {},
   "source": [
    "# "
   ]
  },
  {
   "cell_type": "code",
   "execution_count": 4,
   "id": "a27c735f",
   "metadata": {},
   "outputs": [
    {
     "name": "stdout",
     "output_type": "stream",
     "text": [
      "<class 'pandas.core.frame.DataFrame'>\n",
      "RangeIndex: 110527 entries, 0 to 110526\n",
      "Data columns (total 14 columns):\n",
      " #   Column          Non-Null Count   Dtype  \n",
      "---  ------          --------------   -----  \n",
      " 0   PatientId       110527 non-null  float64\n",
      " 1   AppointmentID   110527 non-null  int64  \n",
      " 2   Gender          110527 non-null  object \n",
      " 3   ScheduledDay    110527 non-null  object \n",
      " 4   AppointmentDay  110527 non-null  object \n",
      " 5   Age             110527 non-null  int64  \n",
      " 6   Neighbourhood   110527 non-null  object \n",
      " 7   Scholarship     110527 non-null  int64  \n",
      " 8   Hipertension    110527 non-null  int64  \n",
      " 9   Diabetes        110527 non-null  int64  \n",
      " 10  Alcoholism      110527 non-null  int64  \n",
      " 11  Handcap         110527 non-null  int64  \n",
      " 12  SMS_received    110527 non-null  int64  \n",
      " 13  No-show         110527 non-null  object \n",
      "dtypes: float64(1), int64(8), object(5)\n",
      "memory usage: 11.8+ MB\n"
     ]
    }
   ],
   "source": [
    "df.info()"
   ]
  },
  {
   "cell_type": "raw",
   "id": "b9df9d30",
   "metadata": {},
   "source": [
    "# Outcomes:\n",
    "- This shows that we have 14 columns in total besides index, and we have 110527 record.\n",
    "- None of the data fields have NULL values.\n",
    "- Datatype should be changed for both \"ScheduledDay\" and \"AppointmentDay\".\n",
    "- PatientId is float while it supposed to be an integer."
   ]
  },
  {
   "cell_type": "code",
   "execution_count": 5,
   "id": "9c8909d6",
   "metadata": {},
   "outputs": [
    {
     "data": {
      "text/plain": [
       "PatientId         float64\n",
       "AppointmentID       int64\n",
       "Gender             object\n",
       "ScheduledDay       object\n",
       "AppointmentDay     object\n",
       "Age                 int64\n",
       "Neighbourhood      object\n",
       "Scholarship         int64\n",
       "Hipertension        int64\n",
       "Diabetes            int64\n",
       "Alcoholism          int64\n",
       "Handcap             int64\n",
       "SMS_received        int64\n",
       "No-show            object\n",
       "dtype: object"
      ]
     },
     "execution_count": 5,
     "metadata": {},
     "output_type": "execute_result"
    }
   ],
   "source": [
    "# View column data types\n",
    "df.dtypes"
   ]
  },
  {
   "cell_type": "code",
   "execution_count": 6,
   "id": "9c346deb",
   "metadata": {},
   "outputs": [
    {
     "data": {
      "text/plain": [
       "0"
      ]
     },
     "execution_count": 6,
     "metadata": {},
     "output_type": "execute_result"
    }
   ],
   "source": [
    "# Check Duplicates\n",
    "df.duplicated().sum()"
   ]
  },
  {
   "cell_type": "raw",
   "id": "489d502a",
   "metadata": {},
   "source": [
    "# Outcomes:\n",
    "- There is no duplicate rows in this dataset."
   ]
  },
  {
   "cell_type": "markdown",
   "id": "5f492221",
   "metadata": {},
   "source": [
    "# "
   ]
  },
  {
   "cell_type": "markdown",
   "id": "ddcfdf76",
   "metadata": {},
   "source": [
    "# Understand Nature of each field in dataset"
   ]
  },
  {
   "cell_type": "markdown",
   "id": "3643e471",
   "metadata": {},
   "source": [
    "# "
   ]
  },
  {
   "cell_type": "code",
   "execution_count": 7,
   "id": "dfd32b92",
   "metadata": {},
   "outputs": [
    {
     "data": {
      "text/html": [
       "<div>\n",
       "<style scoped>\n",
       "    .dataframe tbody tr th:only-of-type {\n",
       "        vertical-align: middle;\n",
       "    }\n",
       "\n",
       "    .dataframe tbody tr th {\n",
       "        vertical-align: top;\n",
       "    }\n",
       "\n",
       "    .dataframe thead th {\n",
       "        text-align: right;\n",
       "    }\n",
       "</style>\n",
       "<table border=\"1\" class=\"dataframe\">\n",
       "  <thead>\n",
       "    <tr style=\"text-align: right;\">\n",
       "      <th></th>\n",
       "      <th>PatientId</th>\n",
       "      <th>AppointmentID</th>\n",
       "      <th>Gender</th>\n",
       "      <th>ScheduledDay</th>\n",
       "      <th>AppointmentDay</th>\n",
       "      <th>Age</th>\n",
       "      <th>Neighbourhood</th>\n",
       "      <th>Scholarship</th>\n",
       "      <th>Hipertension</th>\n",
       "      <th>Diabetes</th>\n",
       "      <th>Alcoholism</th>\n",
       "      <th>Handcap</th>\n",
       "      <th>SMS_received</th>\n",
       "      <th>No-show</th>\n",
       "    </tr>\n",
       "  </thead>\n",
       "  <tbody>\n",
       "    <tr>\n",
       "      <th>count</th>\n",
       "      <td>1.105270e+05</td>\n",
       "      <td>1.105270e+05</td>\n",
       "      <td>110527</td>\n",
       "      <td>110527</td>\n",
       "      <td>110527</td>\n",
       "      <td>110527.000000</td>\n",
       "      <td>110527</td>\n",
       "      <td>110527.000000</td>\n",
       "      <td>110527.000000</td>\n",
       "      <td>110527.000000</td>\n",
       "      <td>110527.000000</td>\n",
       "      <td>110527.000000</td>\n",
       "      <td>110527.000000</td>\n",
       "      <td>110527</td>\n",
       "    </tr>\n",
       "    <tr>\n",
       "      <th>unique</th>\n",
       "      <td>NaN</td>\n",
       "      <td>NaN</td>\n",
       "      <td>2</td>\n",
       "      <td>103549</td>\n",
       "      <td>27</td>\n",
       "      <td>NaN</td>\n",
       "      <td>81</td>\n",
       "      <td>NaN</td>\n",
       "      <td>NaN</td>\n",
       "      <td>NaN</td>\n",
       "      <td>NaN</td>\n",
       "      <td>NaN</td>\n",
       "      <td>NaN</td>\n",
       "      <td>2</td>\n",
       "    </tr>\n",
       "    <tr>\n",
       "      <th>top</th>\n",
       "      <td>NaN</td>\n",
       "      <td>NaN</td>\n",
       "      <td>F</td>\n",
       "      <td>2016-05-06T07:09:54Z</td>\n",
       "      <td>2016-06-06T00:00:00Z</td>\n",
       "      <td>NaN</td>\n",
       "      <td>JARDIM CAMBURI</td>\n",
       "      <td>NaN</td>\n",
       "      <td>NaN</td>\n",
       "      <td>NaN</td>\n",
       "      <td>NaN</td>\n",
       "      <td>NaN</td>\n",
       "      <td>NaN</td>\n",
       "      <td>No</td>\n",
       "    </tr>\n",
       "    <tr>\n",
       "      <th>freq</th>\n",
       "      <td>NaN</td>\n",
       "      <td>NaN</td>\n",
       "      <td>71840</td>\n",
       "      <td>24</td>\n",
       "      <td>4692</td>\n",
       "      <td>NaN</td>\n",
       "      <td>7717</td>\n",
       "      <td>NaN</td>\n",
       "      <td>NaN</td>\n",
       "      <td>NaN</td>\n",
       "      <td>NaN</td>\n",
       "      <td>NaN</td>\n",
       "      <td>NaN</td>\n",
       "      <td>88208</td>\n",
       "    </tr>\n",
       "    <tr>\n",
       "      <th>mean</th>\n",
       "      <td>1.474963e+14</td>\n",
       "      <td>5.675305e+06</td>\n",
       "      <td>NaN</td>\n",
       "      <td>NaN</td>\n",
       "      <td>NaN</td>\n",
       "      <td>37.088874</td>\n",
       "      <td>NaN</td>\n",
       "      <td>0.098266</td>\n",
       "      <td>0.197246</td>\n",
       "      <td>0.071865</td>\n",
       "      <td>0.030400</td>\n",
       "      <td>0.022248</td>\n",
       "      <td>0.321026</td>\n",
       "      <td>NaN</td>\n",
       "    </tr>\n",
       "    <tr>\n",
       "      <th>std</th>\n",
       "      <td>2.560949e+14</td>\n",
       "      <td>7.129575e+04</td>\n",
       "      <td>NaN</td>\n",
       "      <td>NaN</td>\n",
       "      <td>NaN</td>\n",
       "      <td>23.110205</td>\n",
       "      <td>NaN</td>\n",
       "      <td>0.297675</td>\n",
       "      <td>0.397921</td>\n",
       "      <td>0.258265</td>\n",
       "      <td>0.171686</td>\n",
       "      <td>0.161543</td>\n",
       "      <td>0.466873</td>\n",
       "      <td>NaN</td>\n",
       "    </tr>\n",
       "    <tr>\n",
       "      <th>min</th>\n",
       "      <td>3.921784e+04</td>\n",
       "      <td>5.030230e+06</td>\n",
       "      <td>NaN</td>\n",
       "      <td>NaN</td>\n",
       "      <td>NaN</td>\n",
       "      <td>-1.000000</td>\n",
       "      <td>NaN</td>\n",
       "      <td>0.000000</td>\n",
       "      <td>0.000000</td>\n",
       "      <td>0.000000</td>\n",
       "      <td>0.000000</td>\n",
       "      <td>0.000000</td>\n",
       "      <td>0.000000</td>\n",
       "      <td>NaN</td>\n",
       "    </tr>\n",
       "    <tr>\n",
       "      <th>25%</th>\n",
       "      <td>4.172614e+12</td>\n",
       "      <td>5.640286e+06</td>\n",
       "      <td>NaN</td>\n",
       "      <td>NaN</td>\n",
       "      <td>NaN</td>\n",
       "      <td>18.000000</td>\n",
       "      <td>NaN</td>\n",
       "      <td>0.000000</td>\n",
       "      <td>0.000000</td>\n",
       "      <td>0.000000</td>\n",
       "      <td>0.000000</td>\n",
       "      <td>0.000000</td>\n",
       "      <td>0.000000</td>\n",
       "      <td>NaN</td>\n",
       "    </tr>\n",
       "    <tr>\n",
       "      <th>50%</th>\n",
       "      <td>3.173184e+13</td>\n",
       "      <td>5.680573e+06</td>\n",
       "      <td>NaN</td>\n",
       "      <td>NaN</td>\n",
       "      <td>NaN</td>\n",
       "      <td>37.000000</td>\n",
       "      <td>NaN</td>\n",
       "      <td>0.000000</td>\n",
       "      <td>0.000000</td>\n",
       "      <td>0.000000</td>\n",
       "      <td>0.000000</td>\n",
       "      <td>0.000000</td>\n",
       "      <td>0.000000</td>\n",
       "      <td>NaN</td>\n",
       "    </tr>\n",
       "    <tr>\n",
       "      <th>75%</th>\n",
       "      <td>9.439172e+13</td>\n",
       "      <td>5.725524e+06</td>\n",
       "      <td>NaN</td>\n",
       "      <td>NaN</td>\n",
       "      <td>NaN</td>\n",
       "      <td>55.000000</td>\n",
       "      <td>NaN</td>\n",
       "      <td>0.000000</td>\n",
       "      <td>0.000000</td>\n",
       "      <td>0.000000</td>\n",
       "      <td>0.000000</td>\n",
       "      <td>0.000000</td>\n",
       "      <td>1.000000</td>\n",
       "      <td>NaN</td>\n",
       "    </tr>\n",
       "    <tr>\n",
       "      <th>max</th>\n",
       "      <td>9.999816e+14</td>\n",
       "      <td>5.790484e+06</td>\n",
       "      <td>NaN</td>\n",
       "      <td>NaN</td>\n",
       "      <td>NaN</td>\n",
       "      <td>115.000000</td>\n",
       "      <td>NaN</td>\n",
       "      <td>1.000000</td>\n",
       "      <td>1.000000</td>\n",
       "      <td>1.000000</td>\n",
       "      <td>1.000000</td>\n",
       "      <td>4.000000</td>\n",
       "      <td>1.000000</td>\n",
       "      <td>NaN</td>\n",
       "    </tr>\n",
       "  </tbody>\n",
       "</table>\n",
       "</div>"
      ],
      "text/plain": [
       "           PatientId  AppointmentID  Gender          ScheduledDay  \\\n",
       "count   1.105270e+05   1.105270e+05  110527                110527   \n",
       "unique           NaN            NaN       2                103549   \n",
       "top              NaN            NaN       F  2016-05-06T07:09:54Z   \n",
       "freq             NaN            NaN   71840                    24   \n",
       "mean    1.474963e+14   5.675305e+06     NaN                   NaN   \n",
       "std     2.560949e+14   7.129575e+04     NaN                   NaN   \n",
       "min     3.921784e+04   5.030230e+06     NaN                   NaN   \n",
       "25%     4.172614e+12   5.640286e+06     NaN                   NaN   \n",
       "50%     3.173184e+13   5.680573e+06     NaN                   NaN   \n",
       "75%     9.439172e+13   5.725524e+06     NaN                   NaN   \n",
       "max     9.999816e+14   5.790484e+06     NaN                   NaN   \n",
       "\n",
       "              AppointmentDay            Age   Neighbourhood    Scholarship  \\\n",
       "count                 110527  110527.000000          110527  110527.000000   \n",
       "unique                    27            NaN              81            NaN   \n",
       "top     2016-06-06T00:00:00Z            NaN  JARDIM CAMBURI            NaN   \n",
       "freq                    4692            NaN            7717            NaN   \n",
       "mean                     NaN      37.088874             NaN       0.098266   \n",
       "std                      NaN      23.110205             NaN       0.297675   \n",
       "min                      NaN      -1.000000             NaN       0.000000   \n",
       "25%                      NaN      18.000000             NaN       0.000000   \n",
       "50%                      NaN      37.000000             NaN       0.000000   \n",
       "75%                      NaN      55.000000             NaN       0.000000   \n",
       "max                      NaN     115.000000             NaN       1.000000   \n",
       "\n",
       "         Hipertension       Diabetes     Alcoholism        Handcap  \\\n",
       "count   110527.000000  110527.000000  110527.000000  110527.000000   \n",
       "unique            NaN            NaN            NaN            NaN   \n",
       "top               NaN            NaN            NaN            NaN   \n",
       "freq              NaN            NaN            NaN            NaN   \n",
       "mean         0.197246       0.071865       0.030400       0.022248   \n",
       "std          0.397921       0.258265       0.171686       0.161543   \n",
       "min          0.000000       0.000000       0.000000       0.000000   \n",
       "25%          0.000000       0.000000       0.000000       0.000000   \n",
       "50%          0.000000       0.000000       0.000000       0.000000   \n",
       "75%          0.000000       0.000000       0.000000       0.000000   \n",
       "max          1.000000       1.000000       1.000000       4.000000   \n",
       "\n",
       "         SMS_received No-show  \n",
       "count   110527.000000  110527  \n",
       "unique            NaN       2  \n",
       "top               NaN      No  \n",
       "freq              NaN   88208  \n",
       "mean         0.321026     NaN  \n",
       "std          0.466873     NaN  \n",
       "min          0.000000     NaN  \n",
       "25%          0.000000     NaN  \n",
       "50%          0.000000     NaN  \n",
       "75%          1.000000     NaN  \n",
       "max          1.000000     NaN  "
      ]
     },
     "execution_count": 7,
     "metadata": {},
     "output_type": "execute_result"
    }
   ],
   "source": [
    "df.describe(include=\"all\") # Get statistical data about each column"
   ]
  },
  {
   "cell_type": "raw",
   "id": "e7cbc6a3",
   "metadata": {},
   "source": [
    "# Outcomes:\n",
    "- Age has a one or more negative value which makes no sense, so it need to be removed."
   ]
  },
  {
   "cell_type": "raw",
   "id": "f8edea0b",
   "metadata": {},
   "source": [
    "(this may be caused by human error while recording date of birth for some patients, and age might be automatically calculated as the difference between current date and date of birth which resulted in this negative value.)"
   ]
  },
  {
   "cell_type": "raw",
   "id": "c7b1f1b4",
   "metadata": {},
   "source": [
    "- Age variate from -1 to 115 so we have a wide range of ages to investigate.\n",
    "\n",
    "- \"Scholarship\", \"Hipertension\", \"Diabetes\", \"Alcoholism\", \"Handcap\", and \"SMS_received\" are encoded in form of zeros and ones, thats why it has type of int64, and appears like a continous data type.\n",
    "\n",
    "- Gender has 2 unique values \"F\" and \"M\" and the most frequent one is \"F\" which means data have more data on women than men.\n",
    "\n",
    "- Show up has 2 unique values \"yes\" or \"No and the most frequent one is \"No\" which means that most of patients show up on their appointements."
   ]
  },
  {
   "cell_type": "code",
   "execution_count": 8,
   "id": "2777ada8",
   "metadata": {},
   "outputs": [
    {
     "data": {
      "image/png": "[encoded data removed]",
      "text/plain": [
       "<Figure size 1080x1080 with 9 Axes>"
      ]
     },
     "metadata": {
      "needs_background": "light"
     },
     "output_type": "display_data"
    }
   ],
   "source": [
    "# Draw Histogram to show distribution of data for each feature\n",
    "df.hist(figsize=(15,15))\n",
    "plt.suptitle('Histograms shows count of each category for different features', fontsize=22);"
   ]
  },
  {
   "cell_type": "raw",
   "id": "bcd12c71",
   "metadata": {},
   "source": [
    "# Outcomes:\n",
    "- AppointmentId and PatientId have no statistical meanings that's why we need to change their datatype into strings.\n",
    "- Age date is right skewed wich means data includes more young patients than old!\n",
    "- Percentage of Alcoholisim and Handcap is extremly low among patients in this dataset.\n",
    "- Percentage of patients who have diabetes and patients who have a scholarship doesn't exceed 5%.\n",
    "- Percentage of patients who have hipertension as around 23% which is noticable.\n",
    "- SMS have been sent to more than 30% of cases."
   ]
  },
  {
   "cell_type": "markdown",
   "id": "46bc8042",
   "metadata": {},
   "source": [
    "# "
   ]
  },
  {
   "cell_type": "markdown",
   "id": "a20ca2a3",
   "metadata": {},
   "source": [
    "# Data Cleaning"
   ]
  },
  {
   "cell_type": "markdown",
   "id": "17c477c3",
   "metadata": {},
   "source": [
    "# "
   ]
  },
  {
   "cell_type": "raw",
   "id": "28b1b5e4",
   "metadata": {},
   "source": [
    "Data cleansing is the process of detecting and correcting (or removing) corrupt or inaccurate records from a record set, table, or database and refers to identifying incomplete, incorrect, inaccurate or irrelevant parts of the data and then replacing, modifying, or deleting the dirty or coarse data.\n",
    "\n",
    "Data cleansing may be performed interactively with data wrangling tools, or as batch processing through scripting."
   ]
  },
  {
   "cell_type": "markdown",
   "id": "23d2de4d",
   "metadata": {},
   "source": [
    "1 - Edit the \"No-show\" Column to be in Positive form instead of Negativity:"
   ]
  },
  {
   "cell_type": "code",
   "execution_count": 9,
   "id": "5780cbbd",
   "metadata": {},
   "outputs": [],
   "source": [
    "# Edit the reversed meaning of No show to be positive,\n",
    "# 0 will mean that patient didn't come to his appointement.\n",
    "# 1 will mean that patient came to his appointment.\n",
    "\n",
    "df[\"No-show\"].replace({\"Yes\":0,\"No\":1},inplace=True)"
   ]
  },
  {
   "cell_type": "code",
   "execution_count": 10,
   "id": "47c97b91",
   "metadata": {},
   "outputs": [],
   "source": [
    "df[\"No-show\"] = pd.to_numeric(df[\"No-show\"]) # Change datatype for column to be numeric integer"
   ]
  },
  {
   "cell_type": "code",
   "execution_count": 11,
   "id": "d331c695",
   "metadata": {},
   "outputs": [],
   "source": [
    "df=df.rename(columns={\"No-show\":\"Show_up\"}) # Rename column to give positive meaning."
   ]
  },
  {
   "cell_type": "code",
   "execution_count": 12,
   "id": "11d061a5",
   "metadata": {},
   "outputs": [
    {
     "name": "stdout",
     "output_type": "stream",
     "text": [
      "<class 'pandas.core.frame.DataFrame'>\n",
      "RangeIndex: 110527 entries, 0 to 110526\n",
      "Data columns (total 14 columns):\n",
      " #   Column          Non-Null Count   Dtype  \n",
      "---  ------          --------------   -----  \n",
      " 0   PatientId       110527 non-null  float64\n",
      " 1   AppointmentID   110527 non-null  int64  \n",
      " 2   Gender          110527 non-null  object \n",
      " 3   ScheduledDay    110527 non-null  object \n",
      " 4   AppointmentDay  110527 non-null  object \n",
      " 5   Age             110527 non-null  int64  \n",
      " 6   Neighbourhood   110527 non-null  object \n",
      " 7   Scholarship     110527 non-null  int64  \n",
      " 8   Hipertension    110527 non-null  int64  \n",
      " 9   Diabetes        110527 non-null  int64  \n",
      " 10  Alcoholism      110527 non-null  int64  \n",
      " 11  Handcap         110527 non-null  int64  \n",
      " 12  SMS_received    110527 non-null  int64  \n",
      " 13  Show_up         110527 non-null  int64  \n",
      "dtypes: float64(1), int64(9), object(4)\n",
      "memory usage: 11.8+ MB\n"
     ]
    }
   ],
   "source": [
    "df.info() # Make sure of that column name changed correctly and also datatype."
   ]
  },
  {
   "cell_type": "raw",
   "id": "2ad95dbb",
   "metadata": {},
   "source": [
    "2 - Edit the \"ScheduledDay\", and \"AppointmentDay\" Columns' Datatype to be Datetime:"
   ]
  },
  {
   "cell_type": "code",
   "execution_count": 13,
   "id": "a5a230c3",
   "metadata": {},
   "outputs": [],
   "source": [
    "df[\"ScheduledDay\"] = pd.to_datetime(df[\"ScheduledDay\"])"
   ]
  },
  {
   "cell_type": "code",
   "execution_count": 14,
   "id": "2727f452",
   "metadata": {},
   "outputs": [],
   "source": [
    "df[\"AppointmentDay\"] = pd.to_datetime(df[\"AppointmentDay\"])"
   ]
  },
  {
   "cell_type": "code",
   "execution_count": 15,
   "id": "301b873f",
   "metadata": {},
   "outputs": [
    {
     "name": "stdout",
     "output_type": "stream",
     "text": [
      "<class 'pandas.core.frame.DataFrame'>\n",
      "RangeIndex: 110527 entries, 0 to 110526\n",
      "Data columns (total 14 columns):\n",
      " #   Column          Non-Null Count   Dtype              \n",
      "---  ------          --------------   -----              \n",
      " 0   PatientId       110527 non-null  float64            \n",
      " 1   AppointmentID   110527 non-null  int64              \n",
      " 2   Gender          110527 non-null  object             \n",
      " 3   ScheduledDay    110527 non-null  datetime64[ns, UTC]\n",
      " 4   AppointmentDay  110527 non-null  datetime64[ns, UTC]\n",
      " 5   Age             110527 non-null  int64              \n",
      " 6   Neighbourhood   110527 non-null  object             \n",
      " 7   Scholarship     110527 non-null  int64              \n",
      " 8   Hipertension    110527 non-null  int64              \n",
      " 9   Diabetes        110527 non-null  int64              \n",
      " 10  Alcoholism      110527 non-null  int64              \n",
      " 11  Handcap         110527 non-null  int64              \n",
      " 12  SMS_received    110527 non-null  int64              \n",
      " 13  Show_up         110527 non-null  int64              \n",
      "dtypes: datetime64[ns, UTC](2), float64(1), int64(9), object(2)\n",
      "memory usage: 11.8+ MB\n"
     ]
    }
   ],
   "source": [
    "df.info()"
   ]
  },
  {
   "cell_type": "code",
   "execution_count": 16,
   "id": "566c72a9",
   "metadata": {},
   "outputs": [
    {
     "data": {
      "text/html": [
       "<div>\n",
       "<style scoped>\n",
       "    .dataframe tbody tr th:only-of-type {\n",
       "        vertical-align: middle;\n",
       "    }\n",
       "\n",
       "    .dataframe tbody tr th {\n",
       "        vertical-align: top;\n",
       "    }\n",
       "\n",
       "    .dataframe thead th {\n",
       "        text-align: right;\n",
       "    }\n",
       "</style>\n",
       "<table border=\"1\" class=\"dataframe\">\n",
       "  <thead>\n",
       "    <tr style=\"text-align: right;\">\n",
       "      <th></th>\n",
       "      <th>PatientId</th>\n",
       "      <th>AppointmentID</th>\n",
       "      <th>Gender</th>\n",
       "      <th>ScheduledDay</th>\n",
       "      <th>AppointmentDay</th>\n",
       "      <th>Age</th>\n",
       "      <th>Neighbourhood</th>\n",
       "      <th>Scholarship</th>\n",
       "      <th>Hipertension</th>\n",
       "      <th>Diabetes</th>\n",
       "      <th>Alcoholism</th>\n",
       "      <th>Handcap</th>\n",
       "      <th>SMS_received</th>\n",
       "      <th>Show_up</th>\n",
       "    </tr>\n",
       "  </thead>\n",
       "  <tbody>\n",
       "    <tr>\n",
       "      <th>0</th>\n",
       "      <td>2.987250e+13</td>\n",
       "      <td>5642903</td>\n",
       "      <td>F</td>\n",
       "      <td>2016-04-29 18:38:08+00:00</td>\n",
       "      <td>2016-04-29 00:00:00+00:00</td>\n",
       "      <td>62</td>\n",
       "      <td>JARDIM DA PENHA</td>\n",
       "      <td>0</td>\n",
       "      <td>1</td>\n",
       "      <td>0</td>\n",
       "      <td>0</td>\n",
       "      <td>0</td>\n",
       "      <td>0</td>\n",
       "      <td>1</td>\n",
       "    </tr>\n",
       "    <tr>\n",
       "      <th>1</th>\n",
       "      <td>5.589978e+14</td>\n",
       "      <td>5642503</td>\n",
       "      <td>M</td>\n",
       "      <td>2016-04-29 16:08:27+00:00</td>\n",
       "      <td>2016-04-29 00:00:00+00:00</td>\n",
       "      <td>56</td>\n",
       "      <td>JARDIM DA PENHA</td>\n",
       "      <td>0</td>\n",
       "      <td>0</td>\n",
       "      <td>0</td>\n",
       "      <td>0</td>\n",
       "      <td>0</td>\n",
       "      <td>0</td>\n",
       "      <td>1</td>\n",
       "    </tr>\n",
       "    <tr>\n",
       "      <th>2</th>\n",
       "      <td>4.262962e+12</td>\n",
       "      <td>5642549</td>\n",
       "      <td>F</td>\n",
       "      <td>2016-04-29 16:19:04+00:00</td>\n",
       "      <td>2016-04-29 00:00:00+00:00</td>\n",
       "      <td>62</td>\n",
       "      <td>MATA DA PRAIA</td>\n",
       "      <td>0</td>\n",
       "      <td>0</td>\n",
       "      <td>0</td>\n",
       "      <td>0</td>\n",
       "      <td>0</td>\n",
       "      <td>0</td>\n",
       "      <td>1</td>\n",
       "    </tr>\n",
       "    <tr>\n",
       "      <th>3</th>\n",
       "      <td>8.679512e+11</td>\n",
       "      <td>5642828</td>\n",
       "      <td>F</td>\n",
       "      <td>2016-04-29 17:29:31+00:00</td>\n",
       "      <td>2016-04-29 00:00:00+00:00</td>\n",
       "      <td>8</td>\n",
       "      <td>PONTAL DE CAMBURI</td>\n",
       "      <td>0</td>\n",
       "      <td>0</td>\n",
       "      <td>0</td>\n",
       "      <td>0</td>\n",
       "      <td>0</td>\n",
       "      <td>0</td>\n",
       "      <td>1</td>\n",
       "    </tr>\n",
       "    <tr>\n",
       "      <th>4</th>\n",
       "      <td>8.841186e+12</td>\n",
       "      <td>5642494</td>\n",
       "      <td>F</td>\n",
       "      <td>2016-04-29 16:07:23+00:00</td>\n",
       "      <td>2016-04-29 00:00:00+00:00</td>\n",
       "      <td>56</td>\n",
       "      <td>JARDIM DA PENHA</td>\n",
       "      <td>0</td>\n",
       "      <td>1</td>\n",
       "      <td>1</td>\n",
       "      <td>0</td>\n",
       "      <td>0</td>\n",
       "      <td>0</td>\n",
       "      <td>1</td>\n",
       "    </tr>\n",
       "  </tbody>\n",
       "</table>\n",
       "</div>"
      ],
      "text/plain": [
       "      PatientId  AppointmentID Gender              ScheduledDay  \\\n",
       "0  2.987250e+13        5642903      F 2016-04-29 18:38:08+00:00   \n",
       "1  5.589978e+14        5642503      M 2016-04-29 16:08:27+00:00   \n",
       "2  4.262962e+12        5642549      F 2016-04-29 16:19:04+00:00   \n",
       "3  8.679512e+11        5642828      F 2016-04-29 17:29:31+00:00   \n",
       "4  8.841186e+12        5642494      F 2016-04-29 16:07:23+00:00   \n",
       "\n",
       "             AppointmentDay  Age      Neighbourhood  Scholarship  \\\n",
       "0 2016-04-29 00:00:00+00:00   62    JARDIM DA PENHA            0   \n",
       "1 2016-04-29 00:00:00+00:00   56    JARDIM DA PENHA            0   \n",
       "2 2016-04-29 00:00:00+00:00   62      MATA DA PRAIA            0   \n",
       "3 2016-04-29 00:00:00+00:00    8  PONTAL DE CAMBURI            0   \n",
       "4 2016-04-29 00:00:00+00:00   56    JARDIM DA PENHA            0   \n",
       "\n",
       "   Hipertension  Diabetes  Alcoholism  Handcap  SMS_received  Show_up  \n",
       "0             1         0           0        0             0        1  \n",
       "1             0         0           0        0             0        1  \n",
       "2             0         0           0        0             0        1  \n",
       "3             0         0           0        0             0        1  \n",
       "4             1         1           0        0             0        1  "
      ]
     },
     "execution_count": 16,
     "metadata": {},
     "output_type": "execute_result"
    }
   ],
   "source": [
    "df.head()"
   ]
  },
  {
   "cell_type": "raw",
   "id": "4b6ea2b8",
   "metadata": {},
   "source": [
    "3 - Edit the \"PatientId\", \"AppointmentID\" Columns' Datatype to be String:"
   ]
  },
  {
   "cell_type": "code",
   "execution_count": 17,
   "id": "f80552db",
   "metadata": {},
   "outputs": [],
   "source": [
    "df['PatientId'] = df['PatientId'].apply(str)"
   ]
  },
  {
   "cell_type": "code",
   "execution_count": 18,
   "id": "5fc246be",
   "metadata": {},
   "outputs": [],
   "source": [
    "df['AppointmentID'] = df['AppointmentID'].apply(str)"
   ]
  },
  {
   "cell_type": "code",
   "execution_count": 19,
   "id": "409c3426",
   "metadata": {},
   "outputs": [
    {
     "name": "stdout",
     "output_type": "stream",
     "text": [
      "<class 'pandas.core.frame.DataFrame'>\n",
      "RangeIndex: 110527 entries, 0 to 110526\n",
      "Data columns (total 14 columns):\n",
      " #   Column          Non-Null Count   Dtype              \n",
      "---  ------          --------------   -----              \n",
      " 0   PatientId       110527 non-null  object             \n",
      " 1   AppointmentID   110527 non-null  object             \n",
      " 2   Gender          110527 non-null  object             \n",
      " 3   ScheduledDay    110527 non-null  datetime64[ns, UTC]\n",
      " 4   AppointmentDay  110527 non-null  datetime64[ns, UTC]\n",
      " 5   Age             110527 non-null  int64              \n",
      " 6   Neighbourhood   110527 non-null  object             \n",
      " 7   Scholarship     110527 non-null  int64              \n",
      " 8   Hipertension    110527 non-null  int64              \n",
      " 9   Diabetes        110527 non-null  int64              \n",
      " 10  Alcoholism      110527 non-null  int64              \n",
      " 11  Handcap         110527 non-null  int64              \n",
      " 12  SMS_received    110527 non-null  int64              \n",
      " 13  Show_up         110527 non-null  int64              \n",
      "dtypes: datetime64[ns, UTC](2), int64(8), object(4)\n",
      "memory usage: 11.8+ MB\n"
     ]
    }
   ],
   "source": [
    "df.info() # make sure of datatype changed."
   ]
  },
  {
   "cell_type": "code",
   "execution_count": 20,
   "id": "2d4f15c7",
   "metadata": {},
   "outputs": [
    {
     "name": "stderr",
     "output_type": "stream",
     "text": [
      "<ipython-input-20-a9db7921fa2a>:1: FutureWarning: Treating datetime data as categorical rather than numeric in `.describe` is deprecated and will be removed in a future version of pandas. Specify `datetime_is_numeric=True` to silence this warning and adopt the future behavior now.\n",
      "  df.describe(include=\"all\") # Check for results\n",
      "<ipython-input-20-a9db7921fa2a>:1: FutureWarning: Treating datetime data as categorical rather than numeric in `.describe` is deprecated and will be removed in a future version of pandas. Specify `datetime_is_numeric=True` to silence this warning and adopt the future behavior now.\n",
      "  df.describe(include=\"all\") # Check for results\n"
     ]
    },
    {
     "data": {
      "text/html": [
       "<div>\n",
       "<style scoped>\n",
       "    .dataframe tbody tr th:only-of-type {\n",
       "        vertical-align: middle;\n",
       "    }\n",
       "\n",
       "    .dataframe tbody tr th {\n",
       "        vertical-align: top;\n",
       "    }\n",
       "\n",
       "    .dataframe thead th {\n",
       "        text-align: right;\n",
       "    }\n",
       "</style>\n",
       "<table border=\"1\" class=\"dataframe\">\n",
       "  <thead>\n",
       "    <tr style=\"text-align: right;\">\n",
       "      <th></th>\n",
       "      <th>PatientId</th>\n",
       "      <th>AppointmentID</th>\n",
       "      <th>Gender</th>\n",
       "      <th>ScheduledDay</th>\n",
       "      <th>AppointmentDay</th>\n",
       "      <th>Age</th>\n",
       "      <th>Neighbourhood</th>\n",
       "      <th>Scholarship</th>\n",
       "      <th>Hipertension</th>\n",
       "      <th>Diabetes</th>\n",
       "      <th>Alcoholism</th>\n",
       "      <th>Handcap</th>\n",
       "      <th>SMS_received</th>\n",
       "      <th>Show_up</th>\n",
       "    </tr>\n",
       "  </thead>\n",
       "  <tbody>\n",
       "    <tr>\n",
       "      <th>count</th>\n",
       "      <td>110527</td>\n",
       "      <td>110527</td>\n",
       "      <td>110527</td>\n",
       "      <td>110527</td>\n",
       "      <td>110527</td>\n",
       "      <td>110527.000000</td>\n",
       "      <td>110527</td>\n",
       "      <td>110527.000000</td>\n",
       "      <td>110527.000000</td>\n",
       "      <td>110527.000000</td>\n",
       "      <td>110527.000000</td>\n",
       "      <td>110527.000000</td>\n",
       "      <td>110527.000000</td>\n",
       "      <td>110527.000000</td>\n",
       "    </tr>\n",
       "    <tr>\n",
       "      <th>unique</th>\n",
       "      <td>62299</td>\n",
       "      <td>110527</td>\n",
       "      <td>2</td>\n",
       "      <td>103549</td>\n",
       "      <td>27</td>\n",
       "      <td>NaN</td>\n",
       "      <td>81</td>\n",
       "      <td>NaN</td>\n",
       "      <td>NaN</td>\n",
       "      <td>NaN</td>\n",
       "      <td>NaN</td>\n",
       "      <td>NaN</td>\n",
       "      <td>NaN</td>\n",
       "      <td>NaN</td>\n",
       "    </tr>\n",
       "    <tr>\n",
       "      <th>top</th>\n",
       "      <td>822145925426128.0</td>\n",
       "      <td>5595301</td>\n",
       "      <td>F</td>\n",
       "      <td>2016-05-06 07:09:54+00:00</td>\n",
       "      <td>2016-06-06 00:00:00+00:00</td>\n",
       "      <td>NaN</td>\n",
       "      <td>JARDIM CAMBURI</td>\n",
       "      <td>NaN</td>\n",
       "      <td>NaN</td>\n",
       "      <td>NaN</td>\n",
       "      <td>NaN</td>\n",
       "      <td>NaN</td>\n",
       "      <td>NaN</td>\n",
       "      <td>NaN</td>\n",
       "    </tr>\n",
       "    <tr>\n",
       "      <th>freq</th>\n",
       "      <td>88</td>\n",
       "      <td>1</td>\n",
       "      <td>71840</td>\n",
       "      <td>24</td>\n",
       "      <td>4692</td>\n",
       "      <td>NaN</td>\n",
       "      <td>7717</td>\n",
       "      <td>NaN</td>\n",
       "      <td>NaN</td>\n",
       "      <td>NaN</td>\n",
       "      <td>NaN</td>\n",
       "      <td>NaN</td>\n",
       "      <td>NaN</td>\n",
       "      <td>NaN</td>\n",
       "    </tr>\n",
       "    <tr>\n",
       "      <th>first</th>\n",
       "      <td>NaN</td>\n",
       "      <td>NaN</td>\n",
       "      <td>NaN</td>\n",
       "      <td>2015-11-10 07:13:56+00:00</td>\n",
       "      <td>2016-04-29 00:00:00+00:00</td>\n",
       "      <td>NaN</td>\n",
       "      <td>NaN</td>\n",
       "      <td>NaN</td>\n",
       "      <td>NaN</td>\n",
       "      <td>NaN</td>\n",
       "      <td>NaN</td>\n",
       "      <td>NaN</td>\n",
       "      <td>NaN</td>\n",
       "      <td>NaN</td>\n",
       "    </tr>\n",
       "    <tr>\n",
       "      <th>last</th>\n",
       "      <td>NaN</td>\n",
       "      <td>NaN</td>\n",
       "      <td>NaN</td>\n",
       "      <td>2016-06-08 20:07:23+00:00</td>\n",
       "      <td>2016-06-08 00:00:00+00:00</td>\n",
       "      <td>NaN</td>\n",
       "      <td>NaN</td>\n",
       "      <td>NaN</td>\n",
       "      <td>NaN</td>\n",
       "      <td>NaN</td>\n",
       "      <td>NaN</td>\n",
       "      <td>NaN</td>\n",
       "      <td>NaN</td>\n",
       "      <td>NaN</td>\n",
       "    </tr>\n",
       "    <tr>\n",
       "      <th>mean</th>\n",
       "      <td>NaN</td>\n",
       "      <td>NaN</td>\n",
       "      <td>NaN</td>\n",
       "      <td>NaN</td>\n",
       "      <td>NaN</td>\n",
       "      <td>37.088874</td>\n",
       "      <td>NaN</td>\n",
       "      <td>0.098266</td>\n",
       "      <td>0.197246</td>\n",
       "      <td>0.071865</td>\n",
       "      <td>0.030400</td>\n",
       "      <td>0.022248</td>\n",
       "      <td>0.321026</td>\n",
       "      <td>0.798067</td>\n",
       "    </tr>\n",
       "    <tr>\n",
       "      <th>std</th>\n",
       "      <td>NaN</td>\n",
       "      <td>NaN</td>\n",
       "      <td>NaN</td>\n",
       "      <td>NaN</td>\n",
       "      <td>NaN</td>\n",
       "      <td>23.110205</td>\n",
       "      <td>NaN</td>\n",
       "      <td>0.297675</td>\n",
       "      <td>0.397921</td>\n",
       "      <td>0.258265</td>\n",
       "      <td>0.171686</td>\n",
       "      <td>0.161543</td>\n",
       "      <td>0.466873</td>\n",
       "      <td>0.401444</td>\n",
       "    </tr>\n",
       "    <tr>\n",
       "      <th>min</th>\n",
       "      <td>NaN</td>\n",
       "      <td>NaN</td>\n",
       "      <td>NaN</td>\n",
       "      <td>NaN</td>\n",
       "      <td>NaN</td>\n",
       "      <td>-1.000000</td>\n",
       "      <td>NaN</td>\n",
       "      <td>0.000000</td>\n",
       "      <td>0.000000</td>\n",
       "      <td>0.000000</td>\n",
       "      <td>0.000000</td>\n",
       "      <td>0.000000</td>\n",
       "      <td>0.000000</td>\n",
       "      <td>0.000000</td>\n",
       "    </tr>\n",
       "    <tr>\n",
       "      <th>25%</th>\n",
       "      <td>NaN</td>\n",
       "      <td>NaN</td>\n",
       "      <td>NaN</td>\n",
       "      <td>NaN</td>\n",
       "      <td>NaN</td>\n",
       "      <td>18.000000</td>\n",
       "      <td>NaN</td>\n",
       "      <td>0.000000</td>\n",
       "      <td>0.000000</td>\n",
       "      <td>0.000000</td>\n",
       "      <td>0.000000</td>\n",
       "      <td>0.000000</td>\n",
       "      <td>0.000000</td>\n",
       "      <td>1.000000</td>\n",
       "    </tr>\n",
       "    <tr>\n",
       "      <th>50%</th>\n",
       "      <td>NaN</td>\n",
       "      <td>NaN</td>\n",
       "      <td>NaN</td>\n",
       "      <td>NaN</td>\n",
       "      <td>NaN</td>\n",
       "      <td>37.000000</td>\n",
       "      <td>NaN</td>\n",
       "      <td>0.000000</td>\n",
       "      <td>0.000000</td>\n",
       "      <td>0.000000</td>\n",
       "      <td>0.000000</td>\n",
       "      <td>0.000000</td>\n",
       "      <td>0.000000</td>\n",
       "      <td>1.000000</td>\n",
       "    </tr>\n",
       "    <tr>\n",
       "      <th>75%</th>\n",
       "      <td>NaN</td>\n",
       "      <td>NaN</td>\n",
       "      <td>NaN</td>\n",
       "      <td>NaN</td>\n",
       "      <td>NaN</td>\n",
       "      <td>55.000000</td>\n",
       "      <td>NaN</td>\n",
       "      <td>0.000000</td>\n",
       "      <td>0.000000</td>\n",
       "      <td>0.000000</td>\n",
       "      <td>0.000000</td>\n",
       "      <td>0.000000</td>\n",
       "      <td>1.000000</td>\n",
       "      <td>1.000000</td>\n",
       "    </tr>\n",
       "    <tr>\n",
       "      <th>max</th>\n",
       "      <td>NaN</td>\n",
       "      <td>NaN</td>\n",
       "      <td>NaN</td>\n",
       "      <td>NaN</td>\n",
       "      <td>NaN</td>\n",
       "      <td>115.000000</td>\n",
       "      <td>NaN</td>\n",
       "      <td>1.000000</td>\n",
       "      <td>1.000000</td>\n",
       "      <td>1.000000</td>\n",
       "      <td>1.000000</td>\n",
       "      <td>4.000000</td>\n",
       "      <td>1.000000</td>\n",
       "      <td>1.000000</td>\n",
       "    </tr>\n",
       "  </tbody>\n",
       "</table>\n",
       "</div>"
      ],
      "text/plain": [
       "                PatientId AppointmentID  Gender               ScheduledDay  \\\n",
       "count              110527        110527  110527                     110527   \n",
       "unique              62299        110527       2                     103549   \n",
       "top     822145925426128.0       5595301       F  2016-05-06 07:09:54+00:00   \n",
       "freq                   88             1   71840                         24   \n",
       "first                 NaN           NaN     NaN  2015-11-10 07:13:56+00:00   \n",
       "last                  NaN           NaN     NaN  2016-06-08 20:07:23+00:00   \n",
       "mean                  NaN           NaN     NaN                        NaN   \n",
       "std                   NaN           NaN     NaN                        NaN   \n",
       "min                   NaN           NaN     NaN                        NaN   \n",
       "25%                   NaN           NaN     NaN                        NaN   \n",
       "50%                   NaN           NaN     NaN                        NaN   \n",
       "75%                   NaN           NaN     NaN                        NaN   \n",
       "max                   NaN           NaN     NaN                        NaN   \n",
       "\n",
       "                   AppointmentDay            Age   Neighbourhood  \\\n",
       "count                      110527  110527.000000          110527   \n",
       "unique                         27            NaN              81   \n",
       "top     2016-06-06 00:00:00+00:00            NaN  JARDIM CAMBURI   \n",
       "freq                         4692            NaN            7717   \n",
       "first   2016-04-29 00:00:00+00:00            NaN             NaN   \n",
       "last    2016-06-08 00:00:00+00:00            NaN             NaN   \n",
       "mean                          NaN      37.088874             NaN   \n",
       "std                           NaN      23.110205             NaN   \n",
       "min                           NaN      -1.000000             NaN   \n",
       "25%                           NaN      18.000000             NaN   \n",
       "50%                           NaN      37.000000             NaN   \n",
       "75%                           NaN      55.000000             NaN   \n",
       "max                           NaN     115.000000             NaN   \n",
       "\n",
       "          Scholarship   Hipertension       Diabetes     Alcoholism  \\\n",
       "count   110527.000000  110527.000000  110527.000000  110527.000000   \n",
       "unique            NaN            NaN            NaN            NaN   \n",
       "top               NaN            NaN            NaN            NaN   \n",
       "freq              NaN            NaN            NaN            NaN   \n",
       "first             NaN            NaN            NaN            NaN   \n",
       "last              NaN            NaN            NaN            NaN   \n",
       "mean         0.098266       0.197246       0.071865       0.030400   \n",
       "std          0.297675       0.397921       0.258265       0.171686   \n",
       "min          0.000000       0.000000       0.000000       0.000000   \n",
       "25%          0.000000       0.000000       0.000000       0.000000   \n",
       "50%          0.000000       0.000000       0.000000       0.000000   \n",
       "75%          0.000000       0.000000       0.000000       0.000000   \n",
       "max          1.000000       1.000000       1.000000       1.000000   \n",
       "\n",
       "              Handcap   SMS_received        Show_up  \n",
       "count   110527.000000  110527.000000  110527.000000  \n",
       "unique            NaN            NaN            NaN  \n",
       "top               NaN            NaN            NaN  \n",
       "freq              NaN            NaN            NaN  \n",
       "first             NaN            NaN            NaN  \n",
       "last              NaN            NaN            NaN  \n",
       "mean         0.022248       0.321026       0.798067  \n",
       "std          0.161543       0.466873       0.401444  \n",
       "min          0.000000       0.000000       0.000000  \n",
       "25%          0.000000       0.000000       1.000000  \n",
       "50%          0.000000       0.000000       1.000000  \n",
       "75%          0.000000       1.000000       1.000000  \n",
       "max          4.000000       1.000000       1.000000  "
      ]
     },
     "execution_count": 20,
     "metadata": {},
     "output_type": "execute_result"
    }
   ],
   "source": [
    "df.describe(include=\"all\") # Check for results"
   ]
  },
  {
   "cell_type": "raw",
   "id": "9379584a",
   "metadata": {},
   "source": [
    "# Outcomes:\n",
    "- There is only 62299 unique PatientID which means that same person may rescedule their appointment and show up in second or third time!"
   ]
  },
  {
   "cell_type": "raw",
   "id": "dc836e1e",
   "metadata": {},
   "source": [
    "4 - Remove Row(s) with Negative Age Value(s):"
   ]
  },
  {
   "cell_type": "code",
   "execution_count": 21,
   "id": "eef6bb31",
   "metadata": {},
   "outputs": [
    {
     "data": {
      "text/html": [
       "<div>\n",
       "<style scoped>\n",
       "    .dataframe tbody tr th:only-of-type {\n",
       "        vertical-align: middle;\n",
       "    }\n",
       "\n",
       "    .dataframe tbody tr th {\n",
       "        vertical-align: top;\n",
       "    }\n",
       "\n",
       "    .dataframe thead th {\n",
       "        text-align: right;\n",
       "    }\n",
       "</style>\n",
       "<table border=\"1\" class=\"dataframe\">\n",
       "  <thead>\n",
       "    <tr style=\"text-align: right;\">\n",
       "      <th></th>\n",
       "      <th>PatientId</th>\n",
       "      <th>AppointmentID</th>\n",
       "      <th>Gender</th>\n",
       "      <th>ScheduledDay</th>\n",
       "      <th>AppointmentDay</th>\n",
       "      <th>Age</th>\n",
       "      <th>Neighbourhood</th>\n",
       "      <th>Scholarship</th>\n",
       "      <th>Hipertension</th>\n",
       "      <th>Diabetes</th>\n",
       "      <th>Alcoholism</th>\n",
       "      <th>Handcap</th>\n",
       "      <th>SMS_received</th>\n",
       "      <th>Show_up</th>\n",
       "    </tr>\n",
       "  </thead>\n",
       "  <tbody>\n",
       "    <tr>\n",
       "      <th>99832</th>\n",
       "      <td>465943158731293.0</td>\n",
       "      <td>5775010</td>\n",
       "      <td>F</td>\n",
       "      <td>2016-06-06 08:58:13+00:00</td>\n",
       "      <td>2016-06-06 00:00:00+00:00</td>\n",
       "      <td>-1</td>\n",
       "      <td>ROMÃO</td>\n",
       "      <td>0</td>\n",
       "      <td>0</td>\n",
       "      <td>0</td>\n",
       "      <td>0</td>\n",
       "      <td>0</td>\n",
       "      <td>0</td>\n",
       "      <td>1</td>\n",
       "    </tr>\n",
       "  </tbody>\n",
       "</table>\n",
       "</div>"
      ],
      "text/plain": [
       "               PatientId AppointmentID Gender              ScheduledDay  \\\n",
       "99832  465943158731293.0       5775010      F 2016-06-06 08:58:13+00:00   \n",
       "\n",
       "                 AppointmentDay  Age Neighbourhood  Scholarship  Hipertension  \\\n",
       "99832 2016-06-06 00:00:00+00:00   -1         ROMÃO            0             0   \n",
       "\n",
       "       Diabetes  Alcoholism  Handcap  SMS_received  Show_up  \n",
       "99832         0           0        0             0        1  "
      ]
     },
     "execution_count": 21,
     "metadata": {},
     "output_type": "execute_result"
    }
   ],
   "source": [
    "df[df[\"Age\"]<0] # show colmn with this problem"
   ]
  },
  {
   "cell_type": "code",
   "execution_count": 22,
   "id": "e123b942",
   "metadata": {},
   "outputs": [],
   "source": [
    "df = df.drop([99832]) # Drop the column with index=99832"
   ]
  },
  {
   "cell_type": "code",
   "execution_count": 23,
   "id": "c18e1f89",
   "metadata": {
    "scrolled": true
   },
   "outputs": [
    {
     "data": {
      "text/html": [
       "<div>\n",
       "<style scoped>\n",
       "    .dataframe tbody tr th:only-of-type {\n",
       "        vertical-align: middle;\n",
       "    }\n",
       "\n",
       "    .dataframe tbody tr th {\n",
       "        vertical-align: top;\n",
       "    }\n",
       "\n",
       "    .dataframe thead th {\n",
       "        text-align: right;\n",
       "    }\n",
       "</style>\n",
       "<table border=\"1\" class=\"dataframe\">\n",
       "  <thead>\n",
       "    <tr style=\"text-align: right;\">\n",
       "      <th></th>\n",
       "      <th>PatientId</th>\n",
       "      <th>AppointmentID</th>\n",
       "      <th>Gender</th>\n",
       "      <th>ScheduledDay</th>\n",
       "      <th>AppointmentDay</th>\n",
       "      <th>Age</th>\n",
       "      <th>Neighbourhood</th>\n",
       "      <th>Scholarship</th>\n",
       "      <th>Hipertension</th>\n",
       "      <th>Diabetes</th>\n",
       "      <th>Alcoholism</th>\n",
       "      <th>Handcap</th>\n",
       "      <th>SMS_received</th>\n",
       "      <th>Show_up</th>\n",
       "    </tr>\n",
       "  </thead>\n",
       "  <tbody>\n",
       "  </tbody>\n",
       "</table>\n",
       "</div>"
      ],
      "text/plain": [
       "Empty DataFrame\n",
       "Columns: [PatientId, AppointmentID, Gender, ScheduledDay, AppointmentDay, Age, Neighbourhood, Scholarship, Hipertension, Diabetes, Alcoholism, Handcap, SMS_received, Show_up]\n",
       "Index: []"
      ]
     },
     "execution_count": 23,
     "metadata": {},
     "output_type": "execute_result"
    }
   ],
   "source": [
    "df[df[\"Age\"]<0] # Make sure that row has been dropped"
   ]
  },
  {
   "cell_type": "code",
   "execution_count": null,
   "id": "ef7e3514",
   "metadata": {},
   "outputs": [],
   "source": []
  },
  {
   "cell_type": "markdown",
   "id": "c776895f",
   "metadata": {},
   "source": [
    "# "
   ]
  },
  {
   "cell_type": "markdown",
   "id": "5558ddc9",
   "metadata": {},
   "source": [
    "# Exploratory Data Analysis"
   ]
  },
  {
   "cell_type": "markdown",
   "id": "fe469cb9",
   "metadata": {},
   "source": [
    "# "
   ]
  },
  {
   "cell_type": "raw",
   "id": "7e7ae384",
   "metadata": {},
   "source": [
    "1- What is the percentage of patients who show up on their appointements vs. who don't?"
   ]
  },
  {
   "cell_type": "code",
   "execution_count": 24,
   "id": "62606ffb",
   "metadata": {},
   "outputs": [],
   "source": [
    "Num_show_up = df[df[\"Show_up\"]==1].count()[\"PatientId\"] # Count of patients who showed up on thier appoinments.\n",
    "Num_no_show_up = df[df[\"Show_up\"]==0].count()[\"PatientId\"] # Count of patients who didn't show up on thier appoinments."
   ]
  },
  {
   "cell_type": "code",
   "execution_count": 25,
   "id": "06c38c38",
   "metadata": {},
   "outputs": [
    {
     "name": "stdout",
     "output_type": "stream",
     "text": [
      "88207 22319\n"
     ]
    }
   ],
   "source": [
    "print(Num_show_up,Num_no_show_up)"
   ]
  },
  {
   "cell_type": "code",
   "execution_count": 26,
   "id": "b2938cd5",
   "metadata": {},
   "outputs": [
    {
     "data": {
      "image/png": "[encoded data removed]",
      "text/plain": [
       "<Figure size 432x288 with 1 Axes>"
      ]
     },
     "metadata": {},
     "output_type": "display_data"
    }
   ],
   "source": [
    "label_Names = [\"Showed up\", \"Didn't Show up\"]\n",
    "data = [Num_show_up, Num_no_show_up]\n",
    "\n",
    "\n",
    "explode = (0, 0.15) # only explode the didn't show up slice.\n",
    "plt.axis('equal'); # to keep aspect ratio equal to appear as a fine circle.\n",
    "plt.pie(data,radius=1.5,shadow=True ,labels = label_Names,explode=explode, startangle=180,autopct='%0.2f%%',textprops = {\"fontsize\":15})\n",
    "plt.title(\"Percentage of patients who showed up and who didn't\",y=1.2);\n",
    "#autopct to show percentage, 0.2 for two decimal place"
   ]
  },
  {
   "cell_type": "raw",
   "id": "c968ef06",
   "metadata": {},
   "source": [
    "# Answer:\n",
    "- Percentage of patients who show up on their appointments represents 79.8%\n",
    "- Percentage of patients who Don't show up on their appointments represents 20.2%"
   ]
  },
  {
   "cell_type": "markdown",
   "id": "a166c0ca",
   "metadata": {},
   "source": [
    "# "
   ]
  },
  {
   "cell_type": "raw",
   "id": "0aba5c9e",
   "metadata": {},
   "source": [
    "-------------------------------------------------------------------------------------------------------"
   ]
  },
  {
   "cell_type": "markdown",
   "id": "9ac688f0",
   "metadata": {},
   "source": [
    "# "
   ]
  },
  {
   "cell_type": "raw",
   "id": "c3c729d9",
   "metadata": {},
   "source": [
    "2- Is one gender more committed to medical schedules than another? "
   ]
  },
  {
   "cell_type": "code",
   "execution_count": 27,
   "id": "3f107fb9",
   "metadata": {},
   "outputs": [
    {
     "data": {
      "text/html": [
       "<div>\n",
       "<style scoped>\n",
       "    .dataframe tbody tr th:only-of-type {\n",
       "        vertical-align: middle;\n",
       "    }\n",
       "\n",
       "    .dataframe tbody tr th {\n",
       "        vertical-align: top;\n",
       "    }\n",
       "\n",
       "    .dataframe thead th {\n",
       "        text-align: right;\n",
       "    }\n",
       "</style>\n",
       "<table border=\"1\" class=\"dataframe\">\n",
       "  <thead>\n",
       "    <tr style=\"text-align: right;\">\n",
       "      <th></th>\n",
       "      <th></th>\n",
       "      <th>PatientId</th>\n",
       "      <th>AppointmentID</th>\n",
       "      <th>ScheduledDay</th>\n",
       "      <th>AppointmentDay</th>\n",
       "      <th>Age</th>\n",
       "      <th>Neighbourhood</th>\n",
       "      <th>Scholarship</th>\n",
       "      <th>Hipertension</th>\n",
       "      <th>Diabetes</th>\n",
       "      <th>Alcoholism</th>\n",
       "      <th>Handcap</th>\n",
       "      <th>SMS_received</th>\n",
       "    </tr>\n",
       "    <tr>\n",
       "      <th>Gender</th>\n",
       "      <th>Show_up</th>\n",
       "      <th></th>\n",
       "      <th></th>\n",
       "      <th></th>\n",
       "      <th></th>\n",
       "      <th></th>\n",
       "      <th></th>\n",
       "      <th></th>\n",
       "      <th></th>\n",
       "      <th></th>\n",
       "      <th></th>\n",
       "      <th></th>\n",
       "      <th></th>\n",
       "    </tr>\n",
       "  </thead>\n",
       "  <tbody>\n",
       "    <tr>\n",
       "      <th rowspan=\"2\" valign=\"top\">F</th>\n",
       "      <th>0</th>\n",
       "      <td>14594</td>\n",
       "      <td>14594</td>\n",
       "      <td>14594</td>\n",
       "      <td>14594</td>\n",
       "      <td>14594</td>\n",
       "      <td>14594</td>\n",
       "      <td>14594</td>\n",
       "      <td>14594</td>\n",
       "      <td>14594</td>\n",
       "      <td>14594</td>\n",
       "      <td>14594</td>\n",
       "      <td>14594</td>\n",
       "    </tr>\n",
       "    <tr>\n",
       "      <th>1</th>\n",
       "      <td>57245</td>\n",
       "      <td>57245</td>\n",
       "      <td>57245</td>\n",
       "      <td>57245</td>\n",
       "      <td>57245</td>\n",
       "      <td>57245</td>\n",
       "      <td>57245</td>\n",
       "      <td>57245</td>\n",
       "      <td>57245</td>\n",
       "      <td>57245</td>\n",
       "      <td>57245</td>\n",
       "      <td>57245</td>\n",
       "    </tr>\n",
       "    <tr>\n",
       "      <th rowspan=\"2\" valign=\"top\">M</th>\n",
       "      <th>0</th>\n",
       "      <td>7725</td>\n",
       "      <td>7725</td>\n",
       "      <td>7725</td>\n",
       "      <td>7725</td>\n",
       "      <td>7725</td>\n",
       "      <td>7725</td>\n",
       "      <td>7725</td>\n",
       "      <td>7725</td>\n",
       "      <td>7725</td>\n",
       "      <td>7725</td>\n",
       "      <td>7725</td>\n",
       "      <td>7725</td>\n",
       "    </tr>\n",
       "    <tr>\n",
       "      <th>1</th>\n",
       "      <td>30962</td>\n",
       "      <td>30962</td>\n",
       "      <td>30962</td>\n",
       "      <td>30962</td>\n",
       "      <td>30962</td>\n",
       "      <td>30962</td>\n",
       "      <td>30962</td>\n",
       "      <td>30962</td>\n",
       "      <td>30962</td>\n",
       "      <td>30962</td>\n",
       "      <td>30962</td>\n",
       "      <td>30962</td>\n",
       "    </tr>\n",
       "  </tbody>\n",
       "</table>\n",
       "</div>"
      ],
      "text/plain": [
       "                PatientId  AppointmentID  ScheduledDay  AppointmentDay    Age  \\\n",
       "Gender Show_up                                                                  \n",
       "F      0            14594          14594         14594           14594  14594   \n",
       "       1            57245          57245         57245           57245  57245   \n",
       "M      0             7725           7725          7725            7725   7725   \n",
       "       1            30962          30962         30962           30962  30962   \n",
       "\n",
       "                Neighbourhood  Scholarship  Hipertension  Diabetes  \\\n",
       "Gender Show_up                                                       \n",
       "F      0                14594        14594         14594     14594   \n",
       "       1                57245        57245         57245     57245   \n",
       "M      0                 7725         7725          7725      7725   \n",
       "       1                30962        30962         30962     30962   \n",
       "\n",
       "                Alcoholism  Handcap  SMS_received  \n",
       "Gender Show_up                                     \n",
       "F      0             14594    14594         14594  \n",
       "       1             57245    57245         57245  \n",
       "M      0              7725     7725          7725  \n",
       "       1             30962    30962         30962  "
      ]
     },
     "execution_count": 27,
     "metadata": {},
     "output_type": "execute_result"
    }
   ],
   "source": [
    "x=df.groupby([\"Gender\",\"Show_up\"]).count() # Count each gender patients who showed up and who didn't\n",
    "x.head()"
   ]
  },
  {
   "cell_type": "code",
   "execution_count": 28,
   "id": "57ae7dac",
   "metadata": {},
   "outputs": [
    {
     "data": {
      "text/plain": [
       "Text(0, 0.5, 'count of patients')"
      ]
     },
     "execution_count": 28,
     "metadata": {},
     "output_type": "execute_result"
    },
    {
     "data": {
      "image/png": "[encoded data removed]",
      "text/plain": [
       "<Figure size 432x432 with 1 Axes>"
      ]
     },
     "metadata": {
      "needs_background": "light"
     },
     "output_type": "display_data"
    }
   ],
   "source": [
    "x[\"PatientId\"].unstack().plot(kind=\"bar\",stacked=False,figsize=(6,6),grid=True) # Plot for the grouped dataframe\n",
    "plt.title(\"Count of no-show behaviour vs. Gender\") # Change title for the plot\n",
    "plt.legend([\"Didn't Show up\", \"Showed up\"]); # Change legend for each color of data\n",
    "plt.ylabel(\"count of patients\")"
   ]
  },
  {
   "cell_type": "raw",
   "id": "9ce5198c",
   "metadata": {},
   "source": [
    "# Outcomes:\n",
    "- This graph shows that most women shows up on their appointment and so do men.\n",
    "- I need to calculate the porpotion ber each gender to be able to compare."
   ]
  },
  {
   "cell_type": "code",
   "execution_count": 29,
   "id": "0969af09",
   "metadata": {},
   "outputs": [],
   "source": [
    "df_Female = df[df[\"Gender\"]==\"F\"] # new dataframe holds female data only.\n",
    "Num_F = df_Female[\"PatientId\"].count() # count of all females in data."
   ]
  },
  {
   "cell_type": "code",
   "execution_count": 30,
   "id": "c6c9fbcd",
   "metadata": {},
   "outputs": [],
   "source": [
    "df_Female_show = df_Female[df_Female[\"Show_up\"] == 1] #new dataframe holds female who showed up only.\n",
    "Num_F_show = df_Female_show[\"Show_up\"].sum() #count of females who showed up on their appointments"
   ]
  },
  {
   "cell_type": "code",
   "execution_count": 31,
   "id": "f9bd715b",
   "metadata": {},
   "outputs": [
    {
     "name": "stdout",
     "output_type": "stream",
     "text": [
      "Percentage of Females who show up on their appointments is around 79.69% of all female patients.\n"
     ]
    }
   ],
   "source": [
    "# calculate percentage of females who attend their appointments among all females in the data\n",
    "Female_Show_Percent = round((Num_F_show/Num_F)*100,2)\n",
    "print(\"Percentage of Females who show up on their appointments is around {}% of all female patients.\".format(Female_Show_Percent))"
   ]
  },
  {
   "cell_type": "raw",
   "id": "da778eb6",
   "metadata": {},
   "source": [
    "# Now Let's Repeat same steps with Males"
   ]
  },
  {
   "cell_type": "code",
   "execution_count": 32,
   "id": "0b1a9785",
   "metadata": {},
   "outputs": [],
   "source": [
    "df_Male = df[df[\"Gender\"]==\"M\"] # New dataframe holds male data only.\n",
    "Num_M = df_Male[\"PatientId\"].count() # Count of all males in data."
   ]
  },
  {
   "cell_type": "code",
   "execution_count": 33,
   "id": "e0d8b096",
   "metadata": {},
   "outputs": [],
   "source": [
    "df_Male_show = df_Male[df_Male[\"Show_up\"] == 1] # New dataframe holds male who showed up only.\n",
    "Num_M_show = df_Male_show[\"Show_up\"].sum() # Count of males who showed up on their appointments"
   ]
  },
  {
   "cell_type": "code",
   "execution_count": 34,
   "id": "8943db84",
   "metadata": {},
   "outputs": [
    {
     "name": "stdout",
     "output_type": "stream",
     "text": [
      "Percentage of Males who show up on their appointments is around 80.03% of all male patients.\n"
     ]
    }
   ],
   "source": [
    "# Calculate percentage of females who attend their appointments among all females in the data\n",
    "Male_Show_Percent = round((Num_M_show/Num_M)*100,2)\n",
    "print(\"Percentage of Males who show up on their appointments is around {}% of all male patients.\".format(Male_Show_Percent))"
   ]
  },
  {
   "cell_type": "raw",
   "id": "e0c9fad8",
   "metadata": {},
   "source": [
    "# Answer:\n",
    "- Both genders have same commitment to medical schedules."
   ]
  },
  {
   "cell_type": "markdown",
   "id": "6dd56949",
   "metadata": {},
   "source": [
    "# "
   ]
  },
  {
   "cell_type": "raw",
   "id": "8bb110cb",
   "metadata": {},
   "source": [
    "-------------------------------------------------------------------------------------------------------"
   ]
  },
  {
   "cell_type": "markdown",
   "id": "fe4ff1a0",
   "metadata": {},
   "source": [
    "# "
   ]
  },
  {
   "cell_type": "raw",
   "id": "78580bd6",
   "metadata": {},
   "source": [
    "3- Where do most appointments take place? "
   ]
  },
  {
   "cell_type": "code",
   "execution_count": 35,
   "id": "f84ba6a2",
   "metadata": {},
   "outputs": [
    {
     "name": "stderr",
     "output_type": "stream",
     "text": [
      "<ipython-input-35-7150bae0ffd8>:1: FutureWarning: Treating datetime data as categorical rather than numeric in `.describe` is deprecated and will be removed in a future version of pandas. Specify `datetime_is_numeric=True` to silence this warning and adopt the future behavior now.\n",
      "  df.describe(include=\"all\")\n",
      "<ipython-input-35-7150bae0ffd8>:1: FutureWarning: Treating datetime data as categorical rather than numeric in `.describe` is deprecated and will be removed in a future version of pandas. Specify `datetime_is_numeric=True` to silence this warning and adopt the future behavior now.\n",
      "  df.describe(include=\"all\")\n"
     ]
    },
    {
     "data": {
      "text/html": [
       "<div>\n",
       "<style scoped>\n",
       "    .dataframe tbody tr th:only-of-type {\n",
       "        vertical-align: middle;\n",
       "    }\n",
       "\n",
       "    .dataframe tbody tr th {\n",
       "        vertical-align: top;\n",
       "    }\n",
       "\n",
       "    .dataframe thead th {\n",
       "        text-align: right;\n",
       "    }\n",
       "</style>\n",
       "<table border=\"1\" class=\"dataframe\">\n",
       "  <thead>\n",
       "    <tr style=\"text-align: right;\">\n",
       "      <th></th>\n",
       "      <th>PatientId</th>\n",
       "      <th>AppointmentID</th>\n",
       "      <th>Gender</th>\n",
       "      <th>ScheduledDay</th>\n",
       "      <th>AppointmentDay</th>\n",
       "      <th>Age</th>\n",
       "      <th>Neighbourhood</th>\n",
       "      <th>Scholarship</th>\n",
       "      <th>Hipertension</th>\n",
       "      <th>Diabetes</th>\n",
       "      <th>Alcoholism</th>\n",
       "      <th>Handcap</th>\n",
       "      <th>SMS_received</th>\n",
       "      <th>Show_up</th>\n",
       "    </tr>\n",
       "  </thead>\n",
       "  <tbody>\n",
       "    <tr>\n",
       "      <th>count</th>\n",
       "      <td>110526</td>\n",
       "      <td>110526</td>\n",
       "      <td>110526</td>\n",
       "      <td>110526</td>\n",
       "      <td>110526</td>\n",
       "      <td>110526.000000</td>\n",
       "      <td>110526</td>\n",
       "      <td>110526.000000</td>\n",
       "      <td>110526.000000</td>\n",
       "      <td>110526.000000</td>\n",
       "      <td>110526.000000</td>\n",
       "      <td>110526.000000</td>\n",
       "      <td>110526.000000</td>\n",
       "      <td>110526.000000</td>\n",
       "    </tr>\n",
       "    <tr>\n",
       "      <th>unique</th>\n",
       "      <td>62298</td>\n",
       "      <td>110526</td>\n",
       "      <td>2</td>\n",
       "      <td>103548</td>\n",
       "      <td>27</td>\n",
       "      <td>NaN</td>\n",
       "      <td>81</td>\n",
       "      <td>NaN</td>\n",
       "      <td>NaN</td>\n",
       "      <td>NaN</td>\n",
       "      <td>NaN</td>\n",
       "      <td>NaN</td>\n",
       "      <td>NaN</td>\n",
       "      <td>NaN</td>\n",
       "    </tr>\n",
       "    <tr>\n",
       "      <th>top</th>\n",
       "      <td>822145925426128.0</td>\n",
       "      <td>5595301</td>\n",
       "      <td>F</td>\n",
       "      <td>2016-05-06 07:09:54+00:00</td>\n",
       "      <td>2016-06-06 00:00:00+00:00</td>\n",
       "      <td>NaN</td>\n",
       "      <td>JARDIM CAMBURI</td>\n",
       "      <td>NaN</td>\n",
       "      <td>NaN</td>\n",
       "      <td>NaN</td>\n",
       "      <td>NaN</td>\n",
       "      <td>NaN</td>\n",
       "      <td>NaN</td>\n",
       "      <td>NaN</td>\n",
       "    </tr>\n",
       "    <tr>\n",
       "      <th>freq</th>\n",
       "      <td>88</td>\n",
       "      <td>1</td>\n",
       "      <td>71839</td>\n",
       "      <td>24</td>\n",
       "      <td>4691</td>\n",
       "      <td>NaN</td>\n",
       "      <td>7717</td>\n",
       "      <td>NaN</td>\n",
       "      <td>NaN</td>\n",
       "      <td>NaN</td>\n",
       "      <td>NaN</td>\n",
       "      <td>NaN</td>\n",
       "      <td>NaN</td>\n",
       "      <td>NaN</td>\n",
       "    </tr>\n",
       "    <tr>\n",
       "      <th>first</th>\n",
       "      <td>NaN</td>\n",
       "      <td>NaN</td>\n",
       "      <td>NaN</td>\n",
       "      <td>2015-11-10 07:13:56+00:00</td>\n",
       "      <td>2016-04-29 00:00:00+00:00</td>\n",
       "      <td>NaN</td>\n",
       "      <td>NaN</td>\n",
       "      <td>NaN</td>\n",
       "      <td>NaN</td>\n",
       "      <td>NaN</td>\n",
       "      <td>NaN</td>\n",
       "      <td>NaN</td>\n",
       "      <td>NaN</td>\n",
       "      <td>NaN</td>\n",
       "    </tr>\n",
       "    <tr>\n",
       "      <th>last</th>\n",
       "      <td>NaN</td>\n",
       "      <td>NaN</td>\n",
       "      <td>NaN</td>\n",
       "      <td>2016-06-08 20:07:23+00:00</td>\n",
       "      <td>2016-06-08 00:00:00+00:00</td>\n",
       "      <td>NaN</td>\n",
       "      <td>NaN</td>\n",
       "      <td>NaN</td>\n",
       "      <td>NaN</td>\n",
       "      <td>NaN</td>\n",
       "      <td>NaN</td>\n",
       "      <td>NaN</td>\n",
       "      <td>NaN</td>\n",
       "      <td>NaN</td>\n",
       "    </tr>\n",
       "    <tr>\n",
       "      <th>mean</th>\n",
       "      <td>NaN</td>\n",
       "      <td>NaN</td>\n",
       "      <td>NaN</td>\n",
       "      <td>NaN</td>\n",
       "      <td>NaN</td>\n",
       "      <td>37.089219</td>\n",
       "      <td>NaN</td>\n",
       "      <td>0.098266</td>\n",
       "      <td>0.197248</td>\n",
       "      <td>0.071865</td>\n",
       "      <td>0.030400</td>\n",
       "      <td>0.022248</td>\n",
       "      <td>0.321029</td>\n",
       "      <td>0.798066</td>\n",
       "    </tr>\n",
       "    <tr>\n",
       "      <th>std</th>\n",
       "      <td>NaN</td>\n",
       "      <td>NaN</td>\n",
       "      <td>NaN</td>\n",
       "      <td>NaN</td>\n",
       "      <td>NaN</td>\n",
       "      <td>23.110026</td>\n",
       "      <td>NaN</td>\n",
       "      <td>0.297676</td>\n",
       "      <td>0.397923</td>\n",
       "      <td>0.258266</td>\n",
       "      <td>0.171686</td>\n",
       "      <td>0.161543</td>\n",
       "      <td>0.466874</td>\n",
       "      <td>0.401445</td>\n",
       "    </tr>\n",
       "    <tr>\n",
       "      <th>min</th>\n",
       "      <td>NaN</td>\n",
       "      <td>NaN</td>\n",
       "      <td>NaN</td>\n",
       "      <td>NaN</td>\n",
       "      <td>NaN</td>\n",
       "      <td>0.000000</td>\n",
       "      <td>NaN</td>\n",
       "      <td>0.000000</td>\n",
       "      <td>0.000000</td>\n",
       "      <td>0.000000</td>\n",
       "      <td>0.000000</td>\n",
       "      <td>0.000000</td>\n",
       "      <td>0.000000</td>\n",
       "      <td>0.000000</td>\n",
       "    </tr>\n",
       "    <tr>\n",
       "      <th>25%</th>\n",
       "      <td>NaN</td>\n",
       "      <td>NaN</td>\n",
       "      <td>NaN</td>\n",
       "      <td>NaN</td>\n",
       "      <td>NaN</td>\n",
       "      <td>18.000000</td>\n",
       "      <td>NaN</td>\n",
       "      <td>0.000000</td>\n",
       "      <td>0.000000</td>\n",
       "      <td>0.000000</td>\n",
       "      <td>0.000000</td>\n",
       "      <td>0.000000</td>\n",
       "      <td>0.000000</td>\n",
       "      <td>1.000000</td>\n",
       "    </tr>\n",
       "    <tr>\n",
       "      <th>50%</th>\n",
       "      <td>NaN</td>\n",
       "      <td>NaN</td>\n",
       "      <td>NaN</td>\n",
       "      <td>NaN</td>\n",
       "      <td>NaN</td>\n",
       "      <td>37.000000</td>\n",
       "      <td>NaN</td>\n",
       "      <td>0.000000</td>\n",
       "      <td>0.000000</td>\n",
       "      <td>0.000000</td>\n",
       "      <td>0.000000</td>\n",
       "      <td>0.000000</td>\n",
       "      <td>0.000000</td>\n",
       "      <td>1.000000</td>\n",
       "    </tr>\n",
       "    <tr>\n",
       "      <th>75%</th>\n",
       "      <td>NaN</td>\n",
       "      <td>NaN</td>\n",
       "      <td>NaN</td>\n",
       "      <td>NaN</td>\n",
       "      <td>NaN</td>\n",
       "      <td>55.000000</td>\n",
       "      <td>NaN</td>\n",
       "      <td>0.000000</td>\n",
       "      <td>0.000000</td>\n",
       "      <td>0.000000</td>\n",
       "      <td>0.000000</td>\n",
       "      <td>0.000000</td>\n",
       "      <td>1.000000</td>\n",
       "      <td>1.000000</td>\n",
       "    </tr>\n",
       "    <tr>\n",
       "      <th>max</th>\n",
       "      <td>NaN</td>\n",
       "      <td>NaN</td>\n",
       "      <td>NaN</td>\n",
       "      <td>NaN</td>\n",
       "      <td>NaN</td>\n",
       "      <td>115.000000</td>\n",
       "      <td>NaN</td>\n",
       "      <td>1.000000</td>\n",
       "      <td>1.000000</td>\n",
       "      <td>1.000000</td>\n",
       "      <td>1.000000</td>\n",
       "      <td>4.000000</td>\n",
       "      <td>1.000000</td>\n",
       "      <td>1.000000</td>\n",
       "    </tr>\n",
       "  </tbody>\n",
       "</table>\n",
       "</div>"
      ],
      "text/plain": [
       "                PatientId AppointmentID  Gender               ScheduledDay  \\\n",
       "count              110526        110526  110526                     110526   \n",
       "unique              62298        110526       2                     103548   \n",
       "top     822145925426128.0       5595301       F  2016-05-06 07:09:54+00:00   \n",
       "freq                   88             1   71839                         24   \n",
       "first                 NaN           NaN     NaN  2015-11-10 07:13:56+00:00   \n",
       "last                  NaN           NaN     NaN  2016-06-08 20:07:23+00:00   \n",
       "mean                  NaN           NaN     NaN                        NaN   \n",
       "std                   NaN           NaN     NaN                        NaN   \n",
       "min                   NaN           NaN     NaN                        NaN   \n",
       "25%                   NaN           NaN     NaN                        NaN   \n",
       "50%                   NaN           NaN     NaN                        NaN   \n",
       "75%                   NaN           NaN     NaN                        NaN   \n",
       "max                   NaN           NaN     NaN                        NaN   \n",
       "\n",
       "                   AppointmentDay            Age   Neighbourhood  \\\n",
       "count                      110526  110526.000000          110526   \n",
       "unique                         27            NaN              81   \n",
       "top     2016-06-06 00:00:00+00:00            NaN  JARDIM CAMBURI   \n",
       "freq                         4691            NaN            7717   \n",
       "first   2016-04-29 00:00:00+00:00            NaN             NaN   \n",
       "last    2016-06-08 00:00:00+00:00            NaN             NaN   \n",
       "mean                          NaN      37.089219             NaN   \n",
       "std                           NaN      23.110026             NaN   \n",
       "min                           NaN       0.000000             NaN   \n",
       "25%                           NaN      18.000000             NaN   \n",
       "50%                           NaN      37.000000             NaN   \n",
       "75%                           NaN      55.000000             NaN   \n",
       "max                           NaN     115.000000             NaN   \n",
       "\n",
       "          Scholarship   Hipertension       Diabetes     Alcoholism  \\\n",
       "count   110526.000000  110526.000000  110526.000000  110526.000000   \n",
       "unique            NaN            NaN            NaN            NaN   \n",
       "top               NaN            NaN            NaN            NaN   \n",
       "freq              NaN            NaN            NaN            NaN   \n",
       "first             NaN            NaN            NaN            NaN   \n",
       "last              NaN            NaN            NaN            NaN   \n",
       "mean         0.098266       0.197248       0.071865       0.030400   \n",
       "std          0.297676       0.397923       0.258266       0.171686   \n",
       "min          0.000000       0.000000       0.000000       0.000000   \n",
       "25%          0.000000       0.000000       0.000000       0.000000   \n",
       "50%          0.000000       0.000000       0.000000       0.000000   \n",
       "75%          0.000000       0.000000       0.000000       0.000000   \n",
       "max          1.000000       1.000000       1.000000       1.000000   \n",
       "\n",
       "              Handcap   SMS_received        Show_up  \n",
       "count   110526.000000  110526.000000  110526.000000  \n",
       "unique            NaN            NaN            NaN  \n",
       "top               NaN            NaN            NaN  \n",
       "freq              NaN            NaN            NaN  \n",
       "first             NaN            NaN            NaN  \n",
       "last              NaN            NaN            NaN  \n",
       "mean         0.022248       0.321029       0.798066  \n",
       "std          0.161543       0.466874       0.401445  \n",
       "min          0.000000       0.000000       0.000000  \n",
       "25%          0.000000       0.000000       1.000000  \n",
       "50%          0.000000       0.000000       1.000000  \n",
       "75%          0.000000       1.000000       1.000000  \n",
       "max          4.000000       1.000000       1.000000  "
      ]
     },
     "execution_count": 35,
     "metadata": {},
     "output_type": "execute_result"
    }
   ],
   "source": [
    "df.describe(include=\"all\")"
   ]
  },
  {
   "cell_type": "raw",
   "id": "94f5cf02",
   "metadata": {},
   "source": [
    "# Answer:\n",
    "- \"JARDIM CAMBURI\" is the most frequent place."
   ]
  },
  {
   "cell_type": "markdown",
   "id": "790657f2",
   "metadata": {},
   "source": [
    "# "
   ]
  },
  {
   "cell_type": "raw",
   "id": "ae922fd0",
   "metadata": {},
   "source": [
    "-------------------------------------------------------------------------------------------------------"
   ]
  },
  {
   "cell_type": "markdown",
   "id": "ada6b8c2",
   "metadata": {},
   "source": [
    "# "
   ]
  },
  {
   "cell_type": "raw",
   "id": "5c1caf62",
   "metadata": {},
   "source": [
    "4- Is the duration between registration and appointment affect the ability to show up? "
   ]
  },
  {
   "cell_type": "code",
   "execution_count": 36,
   "id": "16ab2235",
   "metadata": {},
   "outputs": [],
   "source": [
    "# To answer this question we need to add new column contain the duration between regestiration and appointment\n",
    "df[\"Duration\"] = (df[\"AppointmentDay\"].dt.date) - (df[\"ScheduledDay\"].dt.date) #.dt.date to differ only date part"
   ]
  },
  {
   "cell_type": "code",
   "execution_count": 37,
   "id": "d65d6c72",
   "metadata": {},
   "outputs": [],
   "source": [
    "df[\"Duration\"] = df[\"Duration\"].dt.days # To convert column to numerical column contain number of days"
   ]
  },
  {
   "cell_type": "code",
   "execution_count": 38,
   "id": "2fd727c9",
   "metadata": {},
   "outputs": [
    {
     "data": {
      "text/html": [
       "<div>\n",
       "<style scoped>\n",
       "    .dataframe tbody tr th:only-of-type {\n",
       "        vertical-align: middle;\n",
       "    }\n",
       "\n",
       "    .dataframe tbody tr th {\n",
       "        vertical-align: top;\n",
       "    }\n",
       "\n",
       "    .dataframe thead th {\n",
       "        text-align: right;\n",
       "    }\n",
       "</style>\n",
       "<table border=\"1\" class=\"dataframe\">\n",
       "  <thead>\n",
       "    <tr style=\"text-align: right;\">\n",
       "      <th></th>\n",
       "      <th>PatientId</th>\n",
       "      <th>AppointmentID</th>\n",
       "      <th>Gender</th>\n",
       "      <th>ScheduledDay</th>\n",
       "      <th>AppointmentDay</th>\n",
       "      <th>Age</th>\n",
       "      <th>Neighbourhood</th>\n",
       "      <th>Scholarship</th>\n",
       "      <th>Hipertension</th>\n",
       "      <th>Diabetes</th>\n",
       "      <th>Alcoholism</th>\n",
       "      <th>Handcap</th>\n",
       "      <th>SMS_received</th>\n",
       "      <th>Show_up</th>\n",
       "      <th>Duration</th>\n",
       "    </tr>\n",
       "  </thead>\n",
       "  <tbody>\n",
       "    <tr>\n",
       "      <th>0</th>\n",
       "      <td>29872499824296.0</td>\n",
       "      <td>5642903</td>\n",
       "      <td>F</td>\n",
       "      <td>2016-04-29 18:38:08+00:00</td>\n",
       "      <td>2016-04-29 00:00:00+00:00</td>\n",
       "      <td>62</td>\n",
       "      <td>JARDIM DA PENHA</td>\n",
       "      <td>0</td>\n",
       "      <td>1</td>\n",
       "      <td>0</td>\n",
       "      <td>0</td>\n",
       "      <td>0</td>\n",
       "      <td>0</td>\n",
       "      <td>1</td>\n",
       "      <td>0</td>\n",
       "    </tr>\n",
       "    <tr>\n",
       "      <th>1</th>\n",
       "      <td>558997776694438.0</td>\n",
       "      <td>5642503</td>\n",
       "      <td>M</td>\n",
       "      <td>2016-04-29 16:08:27+00:00</td>\n",
       "      <td>2016-04-29 00:00:00+00:00</td>\n",
       "      <td>56</td>\n",
       "      <td>JARDIM DA PENHA</td>\n",
       "      <td>0</td>\n",
       "      <td>0</td>\n",
       "      <td>0</td>\n",
       "      <td>0</td>\n",
       "      <td>0</td>\n",
       "      <td>0</td>\n",
       "      <td>1</td>\n",
       "      <td>0</td>\n",
       "    </tr>\n",
       "    <tr>\n",
       "      <th>2</th>\n",
       "      <td>4262962299951.0</td>\n",
       "      <td>5642549</td>\n",
       "      <td>F</td>\n",
       "      <td>2016-04-29 16:19:04+00:00</td>\n",
       "      <td>2016-04-29 00:00:00+00:00</td>\n",
       "      <td>62</td>\n",
       "      <td>MATA DA PRAIA</td>\n",
       "      <td>0</td>\n",
       "      <td>0</td>\n",
       "      <td>0</td>\n",
       "      <td>0</td>\n",
       "      <td>0</td>\n",
       "      <td>0</td>\n",
       "      <td>1</td>\n",
       "      <td>0</td>\n",
       "    </tr>\n",
       "    <tr>\n",
       "      <th>3</th>\n",
       "      <td>867951213174.0</td>\n",
       "      <td>5642828</td>\n",
       "      <td>F</td>\n",
       "      <td>2016-04-29 17:29:31+00:00</td>\n",
       "      <td>2016-04-29 00:00:00+00:00</td>\n",
       "      <td>8</td>\n",
       "      <td>PONTAL DE CAMBURI</td>\n",
       "      <td>0</td>\n",
       "      <td>0</td>\n",
       "      <td>0</td>\n",
       "      <td>0</td>\n",
       "      <td>0</td>\n",
       "      <td>0</td>\n",
       "      <td>1</td>\n",
       "      <td>0</td>\n",
       "    </tr>\n",
       "    <tr>\n",
       "      <th>4</th>\n",
       "      <td>8841186448183.0</td>\n",
       "      <td>5642494</td>\n",
       "      <td>F</td>\n",
       "      <td>2016-04-29 16:07:23+00:00</td>\n",
       "      <td>2016-04-29 00:00:00+00:00</td>\n",
       "      <td>56</td>\n",
       "      <td>JARDIM DA PENHA</td>\n",
       "      <td>0</td>\n",
       "      <td>1</td>\n",
       "      <td>1</td>\n",
       "      <td>0</td>\n",
       "      <td>0</td>\n",
       "      <td>0</td>\n",
       "      <td>1</td>\n",
       "      <td>0</td>\n",
       "    </tr>\n",
       "  </tbody>\n",
       "</table>\n",
       "</div>"
      ],
      "text/plain": [
       "           PatientId AppointmentID Gender              ScheduledDay  \\\n",
       "0   29872499824296.0       5642903      F 2016-04-29 18:38:08+00:00   \n",
       "1  558997776694438.0       5642503      M 2016-04-29 16:08:27+00:00   \n",
       "2    4262962299951.0       5642549      F 2016-04-29 16:19:04+00:00   \n",
       "3     867951213174.0       5642828      F 2016-04-29 17:29:31+00:00   \n",
       "4    8841186448183.0       5642494      F 2016-04-29 16:07:23+00:00   \n",
       "\n",
       "             AppointmentDay  Age      Neighbourhood  Scholarship  \\\n",
       "0 2016-04-29 00:00:00+00:00   62    JARDIM DA PENHA            0   \n",
       "1 2016-04-29 00:00:00+00:00   56    JARDIM DA PENHA            0   \n",
       "2 2016-04-29 00:00:00+00:00   62      MATA DA PRAIA            0   \n",
       "3 2016-04-29 00:00:00+00:00    8  PONTAL DE CAMBURI            0   \n",
       "4 2016-04-29 00:00:00+00:00   56    JARDIM DA PENHA            0   \n",
       "\n",
       "   Hipertension  Diabetes  Alcoholism  Handcap  SMS_received  Show_up  \\\n",
       "0             1         0           0        0             0        1   \n",
       "1             0         0           0        0             0        1   \n",
       "2             0         0           0        0             0        1   \n",
       "3             0         0           0        0             0        1   \n",
       "4             1         1           0        0             0        1   \n",
       "\n",
       "   Duration  \n",
       "0         0  \n",
       "1         0  \n",
       "2         0  \n",
       "3         0  \n",
       "4         0  "
      ]
     },
     "execution_count": 38,
     "metadata": {},
     "output_type": "execute_result"
    }
   ],
   "source": [
    "df.head() # Show the new column"
   ]
  },
  {
   "cell_type": "code",
   "execution_count": 39,
   "id": "ce70c370",
   "metadata": {},
   "outputs": [
    {
     "data": {
      "text/plain": [
       "Show_up\n",
       "0    15.831489\n",
       "1     8.754759\n",
       "Name: Duration, dtype: float64"
      ]
     },
     "execution_count": 39,
     "metadata": {},
     "output_type": "execute_result"
    }
   ],
   "source": [
    "df.groupby(\"Show_up\").mean()[\"Duration\"]"
   ]
  },
  {
   "cell_type": "raw",
   "id": "ca6cf774",
   "metadata": {},
   "source": [
    "# Answer:\n",
    "- Patients Who didn't show up have an average of 15 days between registeration day and their appointments.\n",
    "- Patients Who show up have an average of 8 days between registeration day and their appointments.\n",
    "- As Duration increases, the ability of patients to show up on their appointments decreases."
   ]
  },
  {
   "cell_type": "markdown",
   "id": "4072aa85",
   "metadata": {},
   "source": [
    "# "
   ]
  },
  {
   "cell_type": "raw",
   "id": "691b8e76",
   "metadata": {},
   "source": [
    "-------------------------------------------------------------------------------------------------------"
   ]
  },
  {
   "cell_type": "markdown",
   "id": "0f680fac",
   "metadata": {},
   "source": [
    "# "
   ]
  },
  {
   "cell_type": "raw",
   "id": "9c0f6ab9",
   "metadata": {},
   "source": [
    "5- Are patients who received SMS messages reminding them of the appointment likely to attend? "
   ]
  },
  {
   "cell_type": "code",
   "execution_count": 40,
   "id": "6e14df29",
   "metadata": {},
   "outputs": [],
   "source": [
    "df_SMS=df[df[\"SMS_received\"]==1][\"Show_up\"].mean()\n",
    "df_No_SMS=df[df[\"SMS_received\"]==0][\"Show_up\"].mean()"
   ]
  },
  {
   "cell_type": "code",
   "execution_count": 41,
   "id": "3cd45836",
   "metadata": {},
   "outputs": [
    {
     "data": {
      "text/plain": [
       "0.7242545516036301"
      ]
     },
     "execution_count": 41,
     "metadata": {},
     "output_type": "execute_result"
    }
   ],
   "source": [
    "df_SMS # Percentage of people who show up with recieving SMS."
   ]
  },
  {
   "cell_type": "code",
   "execution_count": 42,
   "id": "47b839c9",
   "metadata": {},
   "outputs": [
    {
     "data": {
      "text/plain": [
       "0.8329646607323703"
      ]
     },
     "execution_count": 42,
     "metadata": {},
     "output_type": "execute_result"
    }
   ],
   "source": [
    "df_No_SMS # Percentage of people who show up without recieving SMS."
   ]
  },
  {
   "cell_type": "raw",
   "id": "0decb48d",
   "metadata": {},
   "source": [
    ":( weired!!.. I thought that SMS would be effective. we should ivestigate more on age recieving the SMS and ivestigate duration too."
   ]
  },
  {
   "cell_type": "code",
   "execution_count": 43,
   "id": "b2d4f739",
   "metadata": {},
   "outputs": [
    {
     "name": "stdout",
     "output_type": "stream",
     "text": [
      "Show_up percentage with SMS is 69.77%, while 81.55%  without SMS.\n"
     ]
    }
   ],
   "source": [
    "# Below 18\n",
    "df_SMS = df.loc[(df[\"SMS_received\"]==1) & (df[\"Age\"] < 18)][\"Show_up\"].mean() #Childs patients who recieved SMS\n",
    "df_No_SMS = df.loc[(df[\"SMS_received\"]==0) & (df[\"Age\"]<18)][\"Show_up\"].mean() #Childs patients who recieved SMS\n",
    "print(\"Show_up percentage with SMS is {}%, while {}%  without SMS.\".format(round(df_SMS*100,2),round(df_No_SMS*100,2)))"
   ]
  },
  {
   "cell_type": "code",
   "execution_count": 44,
   "id": "05ef3dfd",
   "metadata": {},
   "outputs": [
    {
     "name": "stdout",
     "output_type": "stream",
     "text": [
      "Show_up percentage with SMS is 63.23%, while 81.13%  without SMS.\n"
     ]
    }
   ],
   "source": [
    "# 18-24\n",
    "df_SMS = df.loc[(df[\"SMS_received\"]==1) & (df[\"Age\"] >= 18) & (df[\"Age\"] <=24)][\"Show_up\"].mean() #18-24 who recieved SMS\n",
    "df_No_SMS = df.loc[(df[\"SMS_received\"]==0) & (df[\"Age\"] >= 18) & (df[\"Age\"] <=24)][\"Show_up\"].mean() #18-24 patients who recieved SMS\n",
    "print(\"Show_up percentage with SMS is {}%, while {}%  without SMS.\".format(round(df_SMS*100,2),round(df_No_SMS*100,2)))"
   ]
  },
  {
   "cell_type": "code",
   "execution_count": 45,
   "id": "fd0ef50c",
   "metadata": {},
   "outputs": [
    {
     "name": "stdout",
     "output_type": "stream",
     "text": [
      "Show_up percentage with SMS is 67.35%, while 81.57%  without SMS.\n"
     ]
    }
   ],
   "source": [
    "# 25-34\n",
    "df_SMS = df.loc[(df[\"SMS_received\"]==1) & (df[\"Age\"] >= 25) & (df[\"Age\"] <=34)][\"Show_up\"].mean() #25-34 who recieved SMS\n",
    "df_No_SMS = df.loc[(df[\"SMS_received\"]==0) & (df[\"Age\"] >= 25) & (df[\"Age\"] <=34)][\"Show_up\"].mean() #25-34 patients who recieved SMS\n",
    "print(\"Show_up percentage with SMS is {}%, while {}%  without SMS.\".format(round(df_SMS*100,2),round(df_No_SMS*100,2)))"
   ]
  },
  {
   "cell_type": "code",
   "execution_count": 46,
   "id": "764f7cae",
   "metadata": {},
   "outputs": [
    {
     "name": "stdout",
     "output_type": "stream",
     "text": [
      "Show_up percentage with SMS is 69.8%, while 82.88%  without SMS.\n"
     ]
    }
   ],
   "source": [
    "# 35-44\n",
    "df_SMS = df.loc[(df[\"SMS_received\"]==1) & (df[\"Age\"] >= 35) & (df[\"Age\"] <=44)][\"Show_up\"].mean() #35-44 who recieved SMS\n",
    "df_No_SMS = df.loc[(df[\"SMS_received\"]==0) & (df[\"Age\"] >= 35) & (df[\"Age\"] <=44)][\"Show_up\"].mean() #35-44 patients who recieved SMS\n",
    "print(\"Show_up percentage with SMS is {}%, while {}%  without SMS.\".format(round(df_SMS*100,2),round(df_No_SMS*100,2)))"
   ]
  },
  {
   "cell_type": "code",
   "execution_count": 47,
   "id": "1f4df6b0",
   "metadata": {},
   "outputs": [
    {
     "name": "stdout",
     "output_type": "stream",
     "text": [
      "Show_up percentage with SMS is 76.31%, while 84.35%  without SMS.\n"
     ]
    }
   ],
   "source": [
    "# 45-54\n",
    "df_SMS = df.loc[(df[\"SMS_received\"]==1) & (df[\"Age\"] >= 45) & (df[\"Age\"] <=54)][\"Show_up\"].mean() #45-54 who recieved SMS\n",
    "df_No_SMS = df.loc[(df[\"SMS_received\"]==0) & (df[\"Age\"] >= 45) & (df[\"Age\"] <=54)][\"Show_up\"].mean() #18-24 patients who recieved SMS\n",
    "print(\"Show_up percentage with SMS is {}%, while {}%  without SMS.\".format(round(df_SMS*100,2),round(df_No_SMS*100,2)))"
   ]
  },
  {
   "cell_type": "code",
   "execution_count": 48,
   "id": "97ba6470",
   "metadata": {},
   "outputs": [
    {
     "name": "stdout",
     "output_type": "stream",
     "text": [
      "Show_up percentage with SMS is 79.75%, while 86.08%  without SMS.\n"
     ]
    }
   ],
   "source": [
    "# 55-64\n",
    "df_SMS = df.loc[(df[\"SMS_received\"]==1) & (df[\"Age\"] >= 55) & (df[\"Age\"] <=64)][\"Show_up\"].mean() #18-24 who recieved SMS\n",
    "df_No_SMS = df.loc[(df[\"SMS_received\"]==0) & (df[\"Age\"] >= 55) & (df[\"Age\"] <=64)][\"Show_up\"].mean() #18-24 patients who recieved SMS\n",
    "print(\"Show_up percentage with SMS is {}%, while {}%  without SMS.\".format(round(df_SMS*100,2),round(df_No_SMS*100,2)))"
   ]
  },
  {
   "cell_type": "code",
   "execution_count": 49,
   "id": "00b8d8e1",
   "metadata": {},
   "outputs": [
    {
     "name": "stdout",
     "output_type": "stream",
     "text": [
      "Show_up percentage with SMS is 80.31%, while 86.34%  without SMS.\n"
     ]
    }
   ],
   "source": [
    "# More than 65\n",
    "df_SMS = df.loc[(df[\"SMS_received\"]==1) & (df[\"Age\"] >=65)][\"Show_up\"].mean() #Childs patients who recieved SMS\n",
    "df_No_SMS = df.loc[(df[\"SMS_received\"]==0) & (df[\"Age\"]>=65)][\"Show_up\"].mean() #Childs patients who recieved SMS\n",
    "print(\"Show_up percentage with SMS is {}%, while {}%  without SMS.\".format(round(df_SMS*100,2),round(df_No_SMS*100,2)))"
   ]
  },
  {
   "cell_type": "raw",
   "id": "58955521",
   "metadata": {},
   "source": [
    "# Outcomes:\n",
    "- it seems like the percentage of Show ups increase with SMS with increasing age."
   ]
  },
  {
   "cell_type": "code",
   "execution_count": 50,
   "id": "14b4385a",
   "metadata": {},
   "outputs": [],
   "source": [
    "# Let's Explore duration effect \n",
    "median_duration=df.groupby(\"Show_up\").mean()[\"Duration\"][0]"
   ]
  },
  {
   "cell_type": "code",
   "execution_count": 51,
   "id": "7e4a46f5",
   "metadata": {},
   "outputs": [
    {
     "name": "stdout",
     "output_type": "stream",
     "text": [
      "Show_up percentage with SMS is 74.33%, while 86.52%  without SMS.\n"
     ]
    }
   ],
   "source": [
    "# In case of low durations:\n",
    "df_SMS = df.loc[(df[\"SMS_received\"]==1) & (df[\"Duration\"]<=median_duration)][\"Show_up\"].mean() #Childs patients who recieved SMS\n",
    "df_No_SMS = df.loc[(df[\"SMS_received\"]==0) & (df[\"Duration\"]<=median_duration)][\"Show_up\"].mean() #Childs patients who recieved SMS\n",
    "print(\"Show_up percentage with SMS is {}%, while {}%  without SMS.\".format(round(df_SMS*100,2),round(df_No_SMS*100,2)))"
   ]
  },
  {
   "cell_type": "code",
   "execution_count": 52,
   "id": "8c949fc8",
   "metadata": {},
   "outputs": [
    {
     "name": "stdout",
     "output_type": "stream",
     "text": [
      "Show_up percentage with SMS is 70.11%, while 62.9%  without SMS.\n"
     ]
    }
   ],
   "source": [
    "# In case of large durations:\n",
    "df_SMS = df.loc[(df[\"SMS_received\"]==1) & (df[\"Duration\"]>=median_duration)][\"Show_up\"].mean() #Childs patients who recieved SMS\n",
    "df_No_SMS = df.loc[(df[\"SMS_received\"]==0) & (df[\"Duration\"]>=median_duration)][\"Show_up\"].mean() #Childs patients who recieved SMS\n",
    "print(\"Show_up percentage with SMS is {}%, while {}%  without SMS.\".format(round(df_SMS*100,2),round(df_No_SMS*100,2)))"
   ]
  },
  {
   "cell_type": "raw",
   "id": "a1027178",
   "metadata": {},
   "source": [
    "# Outcomes:\n",
    "- Percentage of patients who shows up increases when the duration is larger."
   ]
  },
  {
   "cell_type": "raw",
   "id": "1bb162fb",
   "metadata": {},
   "source": [
    "# Answer:\n",
    "- Percentage of Show ups increase with SMS with increasing age.\n",
    "- Percentage of patients who shows up increases when the duration is larger.\n",
    "- We can't be quiet sure of the answer because data doesn't mention the time of sending SMS! maybe this information will show more and may be need to be improved."
   ]
  },
  {
   "cell_type": "markdown",
   "id": "7c34358f",
   "metadata": {},
   "source": [
    "# "
   ]
  },
  {
   "cell_type": "raw",
   "id": "41a6c4a9",
   "metadata": {},
   "source": [
    "-------------------------------------------------------------------------------------------------------"
   ]
  },
  {
   "cell_type": "markdown",
   "id": "d7fb6a05",
   "metadata": {},
   "source": [
    "# "
   ]
  },
  {
   "cell_type": "raw",
   "id": "b4a2fed2",
   "metadata": {},
   "source": [
    "6- What is the percentage of patients diagnosed with diabetes, hypertension, alcoholism and disability? "
   ]
  },
  {
   "cell_type": "code",
   "execution_count": 53,
   "id": "1dd06d46",
   "metadata": {},
   "outputs": [
    {
     "name": "stdout",
     "output_type": "stream",
     "text": [
      "<class 'pandas.core.frame.DataFrame'>\n",
      "Int64Index: 110526 entries, 0 to 110526\n",
      "Data columns (total 15 columns):\n",
      " #   Column          Non-Null Count   Dtype              \n",
      "---  ------          --------------   -----              \n",
      " 0   PatientId       110526 non-null  object             \n",
      " 1   AppointmentID   110526 non-null  object             \n",
      " 2   Gender          110526 non-null  object             \n",
      " 3   ScheduledDay    110526 non-null  datetime64[ns, UTC]\n",
      " 4   AppointmentDay  110526 non-null  datetime64[ns, UTC]\n",
      " 5   Age             110526 non-null  int64              \n",
      " 6   Neighbourhood   110526 non-null  object             \n",
      " 7   Scholarship     110526 non-null  int64              \n",
      " 8   Hipertension    110526 non-null  int64              \n",
      " 9   Diabetes        110526 non-null  int64              \n",
      " 10  Alcoholism      110526 non-null  int64              \n",
      " 11  Handcap         110526 non-null  int64              \n",
      " 12  SMS_received    110526 non-null  int64              \n",
      " 13  Show_up         110526 non-null  int64              \n",
      " 14  Duration        110526 non-null  int64              \n",
      "dtypes: datetime64[ns, UTC](2), int64(9), object(4)\n",
      "memory usage: 13.5+ MB\n"
     ]
    }
   ],
   "source": [
    "df.info()"
   ]
  },
  {
   "cell_type": "code",
   "execution_count": 54,
   "id": "32f7df75",
   "metadata": {},
   "outputs": [],
   "source": [
    "all_count = 110526 # Number of data records"
   ]
  },
  {
   "cell_type": "code",
   "execution_count": 55,
   "id": "c3001729",
   "metadata": {},
   "outputs": [
    {
     "name": "stdout",
     "output_type": "stream",
     "text": [
      "Percentage of patients who diagnosed with Diabetes is 7.19%.\n"
     ]
    }
   ],
   "source": [
    "# Percentage of people diagnosed with Diabetes\n",
    "diabets_count = df[df[\"Diabetes\"]==1][\"PatientId\"].count()\n",
    "diabetes_percent = round(diabets_count*100/all_count,2)\n",
    "print(\"Percentage of patients who diagnosed with Diabetes is {}%.\".format(diabetes_percent))"
   ]
  },
  {
   "cell_type": "code",
   "execution_count": 56,
   "id": "4ba7d82d",
   "metadata": {},
   "outputs": [
    {
     "name": "stdout",
     "output_type": "stream",
     "text": [
      "Percentage of patients who diagnosed with Hipertension is 19.72%.\n"
     ]
    }
   ],
   "source": [
    "# Percentage of people diagnosed with Diabetes\n",
    "diabets_count = df[df[\"Hipertension\"]==1][\"PatientId\"].count()\n",
    "diabetes_percent = round(diabets_count*100/all_count,2)\n",
    "print(\"Percentage of patients who diagnosed with Hipertension is {}%.\".format(diabetes_percent))"
   ]
  },
  {
   "cell_type": "code",
   "execution_count": 57,
   "id": "469d6957",
   "metadata": {},
   "outputs": [
    {
     "name": "stdout",
     "output_type": "stream",
     "text": [
      "Percentage of patients who diagnosed with Alcoholism is 3.04%.\n"
     ]
    }
   ],
   "source": [
    "# Percentage of people diagnosed with Diabetes\n",
    "diabets_count = df[df[\"Alcoholism\"]==1][\"PatientId\"].count()\n",
    "diabetes_percent = round(diabets_count*100/all_count,2)\n",
    "print(\"Percentage of patients who diagnosed with Alcoholism is {}%.\".format(diabetes_percent))"
   ]
  },
  {
   "cell_type": "code",
   "execution_count": 58,
   "id": "1011e28e",
   "metadata": {},
   "outputs": [
    {
     "name": "stdout",
     "output_type": "stream",
     "text": [
      "Percentage of patients who diagnosed with Handcap is 1.85%.\n"
     ]
    }
   ],
   "source": [
    "# Percentage of people diagnosed with Diabetes\n",
    "diabets_count = df[df[\"Handcap\"]==1][\"PatientId\"].count()\n",
    "diabetes_percent = round(diabets_count*100/all_count,2)\n",
    "print(\"Percentage of patients who diagnosed with Handcap is {}%.\".format(diabetes_percent))"
   ]
  },
  {
   "cell_type": "markdown",
   "id": "8f965df7",
   "metadata": {},
   "source": [
    "# "
   ]
  },
  {
   "cell_type": "raw",
   "id": "a0e621d0",
   "metadata": {},
   "source": [
    "-------------------------------------------------------------------------------------------------------"
   ]
  },
  {
   "cell_type": "markdown",
   "id": "fd23cca7",
   "metadata": {},
   "source": [
    "# "
   ]
  },
  {
   "cell_type": "raw",
   "id": "73736942",
   "metadata": {},
   "source": [
    "7- Is drinking alcohol a cause of missing appointments? "
   ]
  },
  {
   "cell_type": "code",
   "execution_count": 59,
   "id": "9a9c0dcf",
   "metadata": {},
   "outputs": [],
   "source": [
    "# Count of patients with alchoholism who show up\n",
    "alcohol_show = df.loc[(df[\"Alcoholism\"]==1) & (df[\"Show_up\"]==1)][\"PatientId\"].count() "
   ]
  },
  {
   "cell_type": "code",
   "execution_count": 60,
   "id": "e614ef76",
   "metadata": {},
   "outputs": [],
   "source": [
    "# Count of patients with alchoholism who don't show up\n",
    "alcohol_No_show = df.loc[(df[\"Alcoholism\"]==1) & (df[\"Show_up\"]==0)][\"PatientId\"].count()"
   ]
  },
  {
   "cell_type": "code",
   "execution_count": 61,
   "id": "7296ceec",
   "metadata": {},
   "outputs": [],
   "source": [
    "# Clculate percentages\n",
    "alcohol_show_percent = round(alcohol_show*100 / all_count,2) \n",
    "alcohol_No_show_percent = round(alcohol_No_show*100 / all_count,2)"
   ]
  },
  {
   "cell_type": "code",
   "execution_count": 62,
   "id": "9828c706",
   "metadata": {},
   "outputs": [
    {
     "name": "stdout",
     "output_type": "stream",
     "text": [
      "Percentage of show ups when patients have alchoholism is 2.43%, while not show ups is 0.61%.\n"
     ]
    }
   ],
   "source": [
    "print(\"Percentage of show ups when patients have alchoholism is {}%, while not show ups is {}%.\".format(alcohol_show_percent,alcohol_No_show_percent))"
   ]
  },
  {
   "cell_type": "raw",
   "id": "d976eba1",
   "metadata": {},
   "source": [
    "# Answer\n",
    "- It doesn't make them missing the appointments as most of them didn't miss theirs."
   ]
  },
  {
   "cell_type": "markdown",
   "id": "4a6ea1b7",
   "metadata": {},
   "source": [
    "# "
   ]
  },
  {
   "cell_type": "raw",
   "id": "fd44c7a1",
   "metadata": {},
   "source": [
    "-------------------------------------------------------------------------------------------------------"
   ]
  },
  {
   "cell_type": "markdown",
   "id": "d9bf7f98",
   "metadata": {},
   "source": [
    "# "
   ]
  },
  {
   "cell_type": "raw",
   "id": "fdfb5429",
   "metadata": {},
   "source": [
    "8- Do older patients more committed to medical schedules than others? "
   ]
  },
  {
   "cell_type": "code",
   "execution_count": 63,
   "id": "8d3f1aae",
   "metadata": {},
   "outputs": [],
   "source": [
    "# In this Section we need to make segmentation for age to categories:\n",
    "# Below 18, 18-24, 25-34, 35-44, 45-54, 55-64, more than 65.\n",
    "def dataframe_age(data,column,l1,l2):\n",
    "    \"\"\"This function returns a new dataframe from an input dataframe and apply a condition\n",
    "    to a certain column to be whithin 2 numerical limits\n",
    "    \n",
    "    ------------------------------------\n",
    "    input:\n",
    "    ------\n",
    "    data: original data frame that you want to make a supset from it.\n",
    "    column: column name in the original data frame that we will apply limit condition to. (Case Sensitive)\n",
    "    l1: the lower limit of the column.\n",
    "    l2: the higher limit of the column.\n",
    "    \n",
    "    output:\n",
    "    ------\n",
    "    a new dataframe with all columns in the original one but only the rows which meet the condition.\n",
    "    \"\"\"\n",
    "    if l2<l1:\n",
    "        l1,l2 = l2,l1\n",
    "    return data.query(\"{} <= {} <= {}\".format(l1,column,l2))"
   ]
  },
  {
   "cell_type": "code",
   "execution_count": 64,
   "id": "6e3c39e8",
   "metadata": {},
   "outputs": [],
   "source": [
    "# Get dataframes for each age category\n",
    "childs = df.query(\"Age < 18\")\n",
    "age_18_24 = dataframe_age(df,\"Age\",18,24)\n",
    "age_25_34 = dataframe_age(df,\"Age\",25,34)\n",
    "age_35_44 = dataframe_age(df,\"Age\",35,44)\n",
    "age_45_54 = dataframe_age(df,\"Age\",45,54)\n",
    "age_55_64 = dataframe_age(df,\"Age\",55,64)\n",
    "old = df.query(\"Age >= 65\")"
   ]
  },
  {
   "cell_type": "code",
   "execution_count": 65,
   "id": "e465052c",
   "metadata": {},
   "outputs": [],
   "source": [
    "# Calculate mean for each age category\n",
    "mean_childs = childs[\"Show_up\"].mean()\n",
    "mean_18_24 = age_18_24[\"Show_up\"].mean()\n",
    "mean_25_34 = age_25_34[\"Show_up\"].mean()\n",
    "mean_35_44 = age_35_44[\"Show_up\"].mean()\n",
    "mean_45_54 = age_45_54[\"Show_up\"].mean()\n",
    "mean_55_64 = age_55_64[\"Show_up\"].mean()\n",
    "mean_old = old[\"Show_up\"].mean()"
   ]
  },
  {
   "cell_type": "code",
   "execution_count": 66,
   "id": "3c9fdaae",
   "metadata": {},
   "outputs": [
    {
     "data": {
      "image/png": "[encoded data removed]",
      "text/plain": [
       "<Figure size 432x288 with 1 Axes>"
      ]
     },
     "metadata": {
      "needs_background": "light"
     },
     "output_type": "display_data"
    }
   ],
   "source": [
    "# Draw Bar plot for the data\n",
    "locations = [1, 2, 3, 4, 5, 6, 7]\n",
    "heights = [mean_childs, mean_18_24, mean_25_34, mean_35_44, mean_45_54, mean_55_64, mean_old]\n",
    "labels = [\"Childs\",\"18-24\",\"25-34\", \"35-44\", \"45-54\", \"55-64\", \"Old\"]\n",
    "plt.bar(locations, heights, tick_label=labels)\n",
    "plt.title('Average Show_up Vs. Age Categories')\n",
    "plt.ylim([0.7,0.9]) #to focus on this spot to feel the change\n",
    "plt.xlabel('Age Category')\n",
    "plt.ylabel('Average Show_up');"
   ]
  },
  {
   "cell_type": "raw",
   "id": "61631e46",
   "metadata": {},
   "source": [
    "# Answer:\n",
    "- Yes, older patients are more commited to their appointments' schedules than younger ones."
   ]
  },
  {
   "cell_type": "markdown",
   "id": "0efe4a46",
   "metadata": {},
   "source": [
    "# "
   ]
  },
  {
   "cell_type": "markdown",
   "id": "d16cbef5",
   "metadata": {},
   "source": [
    "# Conclustion:"
   ]
  },
  {
   "cell_type": "markdown",
   "id": "d33f1fef",
   "metadata": {},
   "source": [
    "# "
   ]
  },
  {
   "cell_type": "raw",
   "id": "6123ac1d",
   "metadata": {},
   "source": [
    "# Result:\n",
    "- Percentage of patients who show up on their appointments represents 79.8%\n",
    "- Percentage of patients who Don't show up on their appointments represents 20.2%\n",
    "- Both genders have same commitment to medical schedules.\n",
    "- \"JARDIM CAMBURI\" is the most frequent place.\n",
    "- Patients Who didn't show up have an average of 15 days between registeration day and their appointments.\n",
    "- Patients Who show up have an average of 8 days between registeration day and their appointments.\n",
    "- As Duration increases, the ability of patients to show up on their appointments decreases.\n",
    "- Older patients are more commited to their appointments' schedules than younger ones."
   ]
  },
  {
   "cell_type": "raw",
   "id": "951fe1a5",
   "metadata": {},
   "source": [
    "# Limitations:\n",
    "- Source of data should record timing of sending SMS to Patients to better investigate effect of this on Show ups and why it is not effective as much as expected.\n",
    "- Most of the data are categorical which made most of plots are meaningless.\n",
    "- Some patients who marked as no show up, in real they may show up but on another day, this is shown on a different record but this will be better noticed and enhance result if recorded that patient has made a reschedule instead of being recorded as No show."
   ]
  }
 ],
 "metadata": {
  "kernelspec": {
   "display_name": "Python 3",
   "language": "python",
   "name": "python3"
  },
  "language_info": {
   "codemirror_mode": {
    "name": "ipython",
    "version": 3
   },
   "file_extension": ".py",
   "mimetype": "text/x-python",
   "name": "python",
   "nbconvert_exporter": "python",
   "pygments_lexer": "ipython3",
   "version": "3.8.8"
  }
 },
 "nbformat": 4,
 "nbformat_minor": 5
}
